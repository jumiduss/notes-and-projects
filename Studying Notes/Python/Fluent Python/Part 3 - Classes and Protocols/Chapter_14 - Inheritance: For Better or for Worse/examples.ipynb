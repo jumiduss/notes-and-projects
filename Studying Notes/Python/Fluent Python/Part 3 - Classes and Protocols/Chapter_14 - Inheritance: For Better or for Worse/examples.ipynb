{
 "cells": [
  {
   "cell_type": "markdown",
   "metadata": {},
   "source": [
    "Subclassing Built-In Types Is Tricky Examples"
   ]
  },
  {
   "cell_type": "code",
   "execution_count": 2,
   "metadata": {},
   "outputs": [
    {
     "name": "stdout",
     "output_type": "stream",
     "text": [
      "{'one': 1}\n",
      "{'one': 1, 'two': [2, 2]}\n",
      "{'one': 1, 'two': [2, 2], 'three': 3}\n"
     ]
    }
   ],
   "source": [
    "class DoppelDict(dict):\n",
    "    def __setitem__(self, key, value):\n",
    "        super().__setitem__(key, [value]*2)\n",
    "\n",
    "dd = DoppelDict(one = 1)\n",
    "\n",
    "print(dd)\n",
    "\n",
    "dd['two'] = 2\n",
    "\n",
    "print(dd)\n",
    "\n",
    "dd.update(three=3)\n",
    "print(dd)\n"
   ]
  },
  {
   "cell_type": "code",
   "execution_count": 3,
   "metadata": {},
   "outputs": [
    {
     "name": "stdout",
     "output_type": "stream",
     "text": [
      "42\n",
      "foo\n"
     ]
    }
   ],
   "source": [
    "class AnswerDict(dict):\n",
    "    def __getitem__(self, key):\n",
    "        return 42\n",
    "\n",
    "ad = AnswerDict(a='foo')\n",
    "print(ad['a'])\n",
    "\n",
    "d = {}\n",
    "d.update(ad)\n",
    "print(d['a'])"
   ]
  },
  {
   "cell_type": "code",
   "execution_count": 4,
   "metadata": {},
   "outputs": [],
   "source": [
    "import collections\n",
    "\n",
    "class DoppelDict2(collections.UserDict):\n",
    "    def __setitem__(self, key, value):\n",
    "        super().__setitem__(key, [value] * 2)"
   ]
  },
  {
   "cell_type": "markdown",
   "metadata": {},
   "source": [
    "Multiple Inheritance and Method Resolution Order"
   ]
  },
  {
   "cell_type": "code",
   "execution_count": 11,
   "metadata": {},
   "outputs": [
    {
     "name": "stdout",
     "output_type": "stream",
     "text": [
      "<instance of Leaf>.ping() in Leaf\n",
      "<instance of Leaf>.ping() in A\n",
      "<instance of Leaf>.ping() in B\n",
      "<instance of Leaf>.ping() in Root\n",
      "<instance of Leaf>.pong() in A\n",
      "<instance of Leaf>.pong() in A\n"
     ]
    }
   ],
   "source": [
    "class Root:\n",
    "    def ping(self):\n",
    "        print(f'{self}.ping() in Root')\n",
    "    \n",
    "    def pong(self):\n",
    "        print(f'{self}.pong() in Root')\n",
    "    \n",
    "    def __repr__(self):\n",
    "        cls_name = type(self).__name__\n",
    "        return f'<instance of {cls_name}>'\n",
    "\n",
    "class A(Root):\n",
    "    def ping(self):\n",
    "        print(f'{self}.ping() in A')\n",
    "        super().ping()\n",
    "    \n",
    "    def pong(self):\n",
    "        print(f'{self}.pong() in A')\n",
    "        super().pong()\n",
    "\n",
    "class B(Root):\n",
    "    def ping(self):\n",
    "        print(f'{self}.ping() in B')\n",
    "        super().ping()\n",
    "    \n",
    "    def pong(self):\n",
    "        print(f'{self}.pong() in A')\n",
    "\n",
    "class Leaf(A,B):\n",
    "    def ping(self):\n",
    "        print(f'{self}.ping() in Leaf')\n",
    "        super().ping()\n",
    "\n",
    "leaf1 = Leaf()\n",
    "leaf1.ping()\n",
    "leaf1.pong()\n"
   ]
  },
  {
   "cell_type": "code",
   "execution_count": 18,
   "metadata": {},
   "outputs": [
    {
     "name": "stdout",
     "output_type": "stream",
     "text": [
      "<instance of LeafUA>.ping() in LeafUA\n",
      "<instance of LeafUA>.ping() in U\n",
      "<instance of LeafUA>.ping() in A\n",
      "<instance of LeafUA>.ping() in Root\n",
      "<instance of LeafUA>.pong() in A\n",
      "<instance of LeafUA>.pong() in Root\n"
     ]
    }
   ],
   "source": [
    "class U():\n",
    "    def ping(self):\n",
    "        print(f'{self}.ping() in U')\n",
    "        super().ping()\n",
    "    \n",
    "class LeafUA(U, A):\n",
    "    def ping(self):\n",
    "        print(f'{self}.ping() in LeafUA')\n",
    "        super().ping()\n",
    "\n",
    "leaf2 = LeafUA()\n",
    "leaf2.ping()\n",
    "leaf2.pong()\n"
   ]
  },
  {
   "cell_type": "code",
   "execution_count": 20,
   "metadata": {},
   "outputs": [
    {
     "name": "stdout",
     "output_type": "stream",
     "text": [
      "Text, Widget, BaseWidget, Misc, Pack, Place, Grid, XView, YView, object\n"
     ]
    }
   ],
   "source": [
    "import tkinter\n",
    "def print_mro(cls):\n",
    "    print(', '.join(c.__name__ for c in cls.__mro__))\n",
    "print_mro(tkinter.Text)"
   ]
  },
  {
   "cell_type": "markdown",
   "metadata": {},
   "source": [
    "Mixin Classes Examples"
   ]
  },
  {
   "cell_type": "code",
   "execution_count": 3,
   "metadata": {},
   "outputs": [
    {
     "name": "stdout",
     "output_type": "stream",
     "text": [
      "['A', 2]\n",
      "True\n",
      "letter A letter B\n",
      "['A', 2, 'B']\n",
      "[('A', 3), ('N', 2), ('B', 1)]\n"
     ]
    }
   ],
   "source": [
    "import collections\n",
    "\n",
    "def _upper(key):\n",
    "    try:\n",
    "        return key.upper()\n",
    "    except AttributeError:\n",
    "        return key\n",
    "\n",
    "class UpperCaseMixin:\n",
    "    def __setitem__(self, key, item):\n",
    "        super().__setitem__(_upper(key), item)\n",
    "\n",
    "    def __getitem__(self, key):\n",
    "        return super().__getitem__(_upper(key))\n",
    "\n",
    "    def get(self, key, default=None):\n",
    "        return super().get(_upper(key), default)\n",
    "\n",
    "    def __contains__(self, key):\n",
    "        return super().__contains__(_upper(key))\n",
    "\n",
    "class UpperDict(UpperCaseMixin, collections.UserDict):\n",
    "    pass\n",
    "\n",
    "class UpperCounter(UpperCaseMixin, collections.Counter):\n",
    "    \"\"\"Specialized 'Counter' that upper-cases string keys\"\"\"\n",
    "\n",
    "d = UpperDict([('a', 'letter A'), (2, 'digit two')])\n",
    "print(list(d.keys()))\n",
    "d['b'] = 'letter B'\n",
    "print('b' in d)\n",
    "print(d['a'], d.get('B'))\n",
    "print(list(d.keys()))\n",
    "\n",
    "c = UpperCounter('BaNanA')\n",
    "print(c.most_common())"
   ]
  }
 ],
 "metadata": {
  "kernelspec": {
   "display_name": "projects",
   "language": "python",
   "name": "python3"
  },
  "language_info": {
   "codemirror_mode": {
    "name": "ipython",
    "version": 3
   },
   "file_extension": ".py",
   "mimetype": "text/x-python",
   "name": "python",
   "nbconvert_exporter": "python",
   "pygments_lexer": "ipython3",
   "version": "3.12.2"
  }
 },
 "nbformat": 4,
 "nbformat_minor": 2
}

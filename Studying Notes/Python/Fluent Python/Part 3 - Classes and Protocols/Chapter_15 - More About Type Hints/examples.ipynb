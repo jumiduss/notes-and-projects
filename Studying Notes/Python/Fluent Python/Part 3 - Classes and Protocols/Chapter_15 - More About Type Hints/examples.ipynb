{
 "cells": [
  {
   "cell_type": "markdown",
   "metadata": {},
   "source": [
    "Overload Signatures Examples"
   ]
  },
  {
   "cell_type": "code",
   "execution_count": 3,
   "metadata": {},
   "outputs": [],
   "source": [
    "import functools\n",
    "import operator\n",
    "from collections.abc import Iterable\n",
    "from typing import overload, Union, TypeVar\n",
    "\n",
    "T = TypeVar('T')\n",
    "S = TypeVar('S')\n",
    "\n",
    "@overload\n",
    "def sum(it: Iterable[T]) -> Union[T, int]: ...\n",
    "@overload\n",
    "def sum(it: Iterable[T], /, start: S) -> Union[T, S]: ...\n",
    "def sum(it, /, start=0):\n",
    "    return functools.reduce(operator.add, it, start)\n"
   ]
  },
  {
   "cell_type": "markdown",
   "metadata": {},
   "source": [
    "Max Overload Examples"
   ]
  },
  {
   "cell_type": "code",
   "execution_count": 4,
   "metadata": {},
   "outputs": [],
   "source": [
    "from collections.abc import Callable, Iterable\n",
    "from typing import Protocol, Any, TypeVar, overload, Union\n",
    "\n",
    "class SupportsLessThan(Protocol):\n",
    "    def __lt__(self, other: Any) -> bool: ...\n",
    "\n",
    "T = TypeVar('T')\n",
    "LT = TypeVar('LT', bound=SupportsLessThan)\n",
    "DT = TypeVar('DT')\n",
    "\n",
    "MISSING = object()\n",
    "EMPTY_MSG = 'max() arg is an empty sequence'\n",
    "\n",
    "# These SupportLessThan, but have no provided key or default.\n",
    "@overload\n",
    "def max(__arg1: LT, __arg2: LT, *args: LT, key: None = ...) -> LT:\n",
    "    ...\n",
    "@overload\n",
    "def max(__iterable: Iterable[LT], *, key: None = ...) -> LT:\n",
    "    ...\n",
    "# These provide and argument but have no default.\n",
    "@overload\n",
    "def max(__arg1: T, __arg2: T, *args: T, key: Callable[[T], LT]) -> T:\n",
    "    ...\n",
    "@overload\n",
    "def max(__iterable: Iterable[T], *, key: Callable[[T], LT]) -> T:\n",
    "    ...\n",
    "# These provide a default but no key.\n",
    "@overload\n",
    "def max(__iterable: Iterable[LT], *, key: None = ..., default: DT) -> Union[LT, DT]:\n",
    "    ...\n",
    "# The provide a key and default.\n",
    "@overload\n",
    "def max(__iterable: Iterable[T], *, key: Callable[[T], LT], default: DT) -> Union[T, DT]:\n",
    "    ..."
   ]
  },
  {
   "cell_type": "markdown",
   "metadata": {},
   "source": [
    "TypedDict Examples"
   ]
  },
  {
   "cell_type": "code",
   "execution_count": 5,
   "metadata": {},
   "outputs": [
    {
     "name": "stdout",
     "output_type": "stream",
     "text": [
      "{'title': 'Programming', 'authors': 'Jon Bentley', 'isbn': '0123123', 'pagecount': 256}\n",
      "<class 'dict'>\n"
     ]
    }
   ],
   "source": [
    "from typing import TypedDict\n",
    "\n",
    "class BookDict(TypedDict):\n",
    "    isbn: str\n",
    "    title: str\n",
    "    authors: list[str]\n",
    "    pagecount: int\n",
    "\n",
    "pp = BookDict(title='Programming', authors='Jon Bentley', isbn='0123123', pagecount=256)\n",
    "print(pp)\n",
    "print(type(pp))\n",
    "# print(pp.title) # raises AttributeError"
   ]
  },
  {
   "cell_type": "code",
   "execution_count": 6,
   "metadata": {},
   "outputs": [],
   "source": [
    "from typing import TYPE_CHECKING\n",
    "\n",
    "def demo() -> None:\n",
    "    book = BookDict(\n",
    "        isbn='231432',\n",
    "        title='Refactoring',\n",
    "        authors=['AuthorA','AuthorB'],\n",
    "        pagecount=1242\n",
    "    )\n",
    "    authors = book['authors']\n",
    "    if TYPE_CHECKING:\n",
    "        reveal_type(authors)\n",
    "    authors = 'Bob'\n",
    "    book['weight'] = 4.2\n",
    "    del book['title']\n",
    "\n"
   ]
  },
  {
   "cell_type": "code",
   "execution_count": 7,
   "metadata": {},
   "outputs": [],
   "source": [
    "AUTHOR_ELEMENT = '<AUTHOR>{}</AUTHOR>'\n",
    "\n",
    "def to_xml(book: BookDict) -> str:\n",
    "    elements: list[str] = []\n",
    "    for key, value in book.items():\n",
    "        if isinstance(value, list):\n",
    "            elements.extend(\n",
    "                AUTHOR_ELEMENT.format(n) for n in value)\n",
    "        else:\n",
    "            tag = key.upper()\n",
    "            elements.append(f'<{tag}>{value}</{tag}>')\n",
    "    xml = '\\n\\t'.join(elements)\n",
    "    return f'<BOOK>\\n\\t{xml}\\n</BOOK>'"
   ]
  },
  {
   "cell_type": "code",
   "execution_count": 8,
   "metadata": {},
   "outputs": [],
   "source": [
    "import json\n",
    "# def from_json(data: str) -> BookDict:\n",
    "#     whatever = json.loads(data)\n",
    "#     return whatever\n",
    "\n",
    "def from_json(data: str) -> BookDict:\n",
    "    whatever: BookDict = json.loads(data)\n",
    "    return whatever"
   ]
  },
  {
   "cell_type": "code",
   "execution_count": 9,
   "metadata": {},
   "outputs": [
    {
     "name": "stdout",
     "output_type": "stream",
     "text": [
      "{'title': 'A_Title', 'flavor': 'pistachio', 'authors': True}\n",
      "pistachio\n",
      "<BOOK>\n",
      "\t<TITLE>A_Title</TITLE>\n",
      "\t<FLAVOR>pistachio</FLAVOR>\n",
      "\t<AUTHORS>True</AUTHORS>\n",
      "</BOOK>\n"
     ]
    }
   ],
   "source": [
    "from typing import TYPE_CHECKING\n",
    "\n",
    "def demo() -> None:\n",
    "    NOT_BOOK_JSON = \"\"\"\n",
    "        {\"title\": \"A_Title\",\n",
    "        \"flavor\": \"pistachio\",\n",
    "        \"authors\": true}\n",
    "    \"\"\"\n",
    "    not_book = from_json(NOT_BOOK_JSON)\n",
    "    if TYPE_CHECKING:\n",
    "        reveal_type(not_book)\n",
    "        reveal_type(not_book['authors'])\n",
    "    \n",
    "    print(not_book)\n",
    "    print(not_book['flavor'])\n",
    "    \n",
    "    xml = to_xml(not_book)\n",
    "    print(xml)\n",
    "\n",
    "demo()"
   ]
  },
  {
   "cell_type": "markdown",
   "metadata": {},
   "source": [
    "Type Casting Examples"
   ]
  },
  {
   "cell_type": "code",
   "execution_count": 10,
   "metadata": {},
   "outputs": [],
   "source": [
    "def cast(typ, val):\n",
    "    \"\"\"Cast a value to a type\"\"\"\n",
    "    return val\n",
    "\n",
    "def find_first_str(a: list[object]) -> str:\n",
    "    index = next(i for i, x in enumerate(a) if isinstance(x, str))\n",
    "    # If there is atleast one string:\n",
    "    return cast(str, a[index])"
   ]
  },
  {
   "cell_type": "markdown",
   "metadata": {},
   "source": [
    "Implementing a Generic Class"
   ]
  },
  {
   "cell_type": "code",
   "execution_count": 15,
   "metadata": {},
   "outputs": [],
   "source": [
    "import random\n",
    "from tombola import Tombola\n",
    "\n",
    "class LottoBlower(Tombola):\n",
    "    \n",
    "    def __init__(self, iterable):\n",
    "        self._balls = list(iterable)\n",
    "    \n",
    "    def load(self, iterable):\n",
    "        self._balls.extend(iterable)\n",
    "    \n",
    "    def pick(self):\n",
    "        try:\n",
    "            position = random.randrange(len(self._balls))\n",
    "        except ValueError:\n",
    "            raise LookupError('pick from empty LottoBlower')\n",
    "        return self._balls.pop(position)\n",
    "\n",
    "    def loaded(self):\n",
    "        return bool(self._balls)\n",
    "\n",
    "    def inspect(self):\n",
    "        return tuple(self._balls)\n",
    "\n",
    "\n",
    "# machine = LottoBlower[int](range(1,11))\n",
    "\n",
    "# first = machine.pick()\n",
    "# remain = machine.inspect()\n",
    "\n",
    "\n",
    "# machine = LottoBlower[int]([1, .2]) # Returns error because .2 is a float not an int.\n",
    "\n",
    "# machine.load('ABC') # Returns error for the string being incompatible."
   ]
  },
  {
   "cell_type": "code",
   "execution_count": 16,
   "metadata": {},
   "outputs": [],
   "source": [
    "import random\n",
    "\n",
    "from collections.abc import Iterable\n",
    "from typing import TypeVar, Generic\n",
    "\n",
    "from tombola import Tombola\n",
    "\n",
    "T = TypeVar('T')\n",
    "\n",
    "class LottoBlower(Tombola, Generic[T]):\n",
    "    \n",
    "    def __init__(self, items: Iterable[T]) -> None:\n",
    "        self._balls = list[T](items)\n",
    "\n",
    "    def load(self, items: Iterable[T]) -> None:\n",
    "        self._balls.extend(items)\n",
    "\n",
    "    def pick(self) -> T:\n",
    "        try:\n",
    "            position = random.randrange(len(self._balls))\n",
    "        except ValueError:\n",
    "            raise LookupError('pick from empty LottoBlower')\n",
    "        return self._balls.pop(position)\n",
    "\n",
    "    def loaded(self) -> bool:\n",
    "        return bool(self._balls)\n",
    "\n",
    "    def inspect(self) -> tuple[T, ...]:\n",
    "        return tuple(self._balls)"
   ]
  },
  {
   "cell_type": "markdown",
   "metadata": {},
   "source": [
    "Variance Examples"
   ]
  },
  {
   "cell_type": "code",
   "execution_count": 17,
   "metadata": {},
   "outputs": [],
   "source": [
    "# Invariance Example\n",
    "from typing import TypeVar, Generic\n",
    "\n",
    "class Beverage:\n",
    "    \"\"\"Any beverage.\"\"\"\n",
    "\n",
    "class Juice:\n",
    "    \"\"\"Any fruit juice.\"\"\"\n",
    "\n",
    "class OrangeJuice:\n",
    "    \"\"\"Delicious juice from Brazilian oranges.\"\"\"\n",
    "\n",
    "T = TypeVar('T')\n",
    "\n",
    "class BeverageDispenser(Generic[T]):\n",
    "    \"\"\"A dispenser parameterized on the beverage type.\"\"\"\n",
    "    def __init__(self, beverage: T):\n",
    "        self.beverage = beverage\n",
    "    \n",
    "    def dispense(self) -> T:\n",
    "        return self.beverage\n",
    "\n",
    "def install(dispenser: BeverageDispenser[Juice]) -> None:\n",
    "    \"\"\"Install a fruit juice dispenser.\"\"\"\n",
    "\n",
    "# Valid Code\n",
    "juice_dispenser = BeverageDispenser(Juice())\n",
    "install(juice_dispenser)\n",
    "\n",
    "# Invalid Code\n",
    "orange_juice_dispenser = BeverageDispenser(OrangeJuice())\n",
    "# install(orange_juice_dispenser) # Not a valid type to install"
   ]
  },
  {
   "cell_type": "code",
   "execution_count": 18,
   "metadata": {},
   "outputs": [],
   "source": [
    "# Covariant Example\n",
    "\n",
    "T_co = TypeVar('T_co', covariant=True)\n",
    "\n",
    "class BeverageDispenser(Generic[T_co]):\n",
    "    def __init__(self, beverage: T_co) -> None:\n",
    "        self.beverage = beverage\n",
    "    \n",
    "    def dispense(self) -> T_co:\n",
    "        return self.beverage\n",
    "\n",
    "def install(dispenser: BeverageDispenser[Juice]) -> None:\n",
    "    \"\"\"Install a fruit juice dispenser.\"\"\"\n",
    "\n",
    "\n",
    "# Valid Code\n",
    "juice_dispenser = BeverageDispenser(Juice())\n",
    "install(juice_dispenser)\n",
    "\n",
    "# Valid Code\n",
    "orange_juice_dispenser = BeverageDispenser(OrangeJuice())\n",
    "install(orange_juice_dispenser) # Now Valid\n",
    "\n",
    "\n",
    "# Invalid Code\n",
    "beverage_dispenser = BeverageDispenser(Beverage())\n",
    "# install(beverage_dispenser) # Not a valid type to install"
   ]
  },
  {
   "cell_type": "code",
   "execution_count": 19,
   "metadata": {},
   "outputs": [],
   "source": [
    "from typing import TypeVar, Generic\n",
    "\n",
    "class Refuse:\n",
    "    \"\"\"Any refuse.\"\"\"\n",
    "\n",
    "class Biodegradable(Refuse):\n",
    "    \"\"\"Biodegradable refuse.\"\"\"\n",
    "\n",
    "class Compostable(Biodegradable):\n",
    "    \"\"\"Compostable refuse.\"\"\"\n",
    "\n",
    "T_contra = TypeVar('T_contra', contravariant=True)\n",
    "\n",
    "class TrashCan(Generic[T_contra]):\n",
    "    def put(self, refuse: T_contra) -> None:\n",
    "        \"\"\"Store trash until dumped.\"\"\"\n",
    "    \n",
    "def deploy(trash_can: TrashCan[Biodegradable]):\n",
    "    \"\"\"Deploy a trash can for biodegradable refuse.\"\"\"\n",
    "\n",
    "# Valid Code\n",
    "bio_can: TrashCan[Biodegradable] = TrashCan()\n",
    "deploy(bio_can)\n",
    "\n",
    "# Valid Code\n",
    "trash_can: TrashCan[Refuse] = TrashCan()\n",
    "deploy(trash_can)\n",
    "\n",
    "# Invalid Code\n",
    "compost_can: TrashCan[Compostable] = TrashCan()\n",
    "# deploy(compost_can) # Compostable is not a valid type\n"
   ]
  },
  {
   "cell_type": "markdown",
   "metadata": {},
   "source": [
    "Implementing a Generic Static Protocol Examples"
   ]
  },
  {
   "cell_type": "code",
   "execution_count": 20,
   "metadata": {},
   "outputs": [],
   "source": [
    "from typing import runtime_checkable, abstractmethod, TypeVar\n",
    "\n",
    "T_co = TypeVar('T_co', covariant=True)\n",
    "\n",
    "@runtime_checkable\n",
    "class SupportsAbs(Protocol[T_co]):\n",
    "    __slots__ = ()\n",
    "    \n",
    "    @abstractmethod\n",
    "    def __abs__(self) -> T_co:\n",
    "        pass\n"
   ]
  },
  {
   "cell_type": "code",
   "execution_count": 23,
   "metadata": {},
   "outputs": [
    {
     "name": "stdout",
     "output_type": "stream",
     "text": [
      "OK\n"
     ]
    }
   ],
   "source": [
    "import math\n",
    "from typing import NamedTuple, SupportsAbs\n",
    "\n",
    "class Vector2d(NamedTuple):\n",
    "    x: float\n",
    "    y: float\n",
    "\n",
    "    def __abs__(self) -> float:\n",
    "        return math.hypot(self.x, self.y)\n",
    "\n",
    "def is_unit(v: SupportsAbs[float]) -> bool:\n",
    "    \"\"\"'True' if the magnitude of 'v' is close to 1.\"\"\"\n",
    "    return math.isclose(abs(v), 1.0)\n",
    "\n",
    "assert issubclass(Vector2d, SupportsAbs)\n",
    "\n",
    "v0 = Vector2d(0, 1)\n",
    "sqrt2 = math.sqrt(2)\n",
    "v1 = Vector2d(sqrt2 / 2, sqrt2 / 2)\n",
    "v2 = Vector2d(1, 1)\n",
    "v3 = complex(.5, math.sqrt(3) / 2)\n",
    "v4 = 1\n",
    "\n",
    "assert is_unit(v0)\n",
    "assert is_unit(v1)\n",
    "assert not is_unit(v2)\n",
    "assert is_unit(v3)\n",
    "assert is_unit(v4)\n",
    "print('OK')"
   ]
  },
  {
   "cell_type": "code",
   "execution_count": null,
   "metadata": {},
   "outputs": [],
   "source": [
    "from typing import Protocol, runtime_checkable, TypeVar\n",
    "\n",
    "T_co = TypeVar('T_co', covariant=True)\n",
    "\n",
    "@runtime_checkable\n",
    "class RandomPicker(Protocol[T_co]):\n",
    "    def pick(self) -> T_co: ..."
   ]
  }
 ],
 "metadata": {
  "kernelspec": {
   "display_name": "projects",
   "language": "python",
   "name": "python3"
  },
  "language_info": {
   "codemirror_mode": {
    "name": "ipython",
    "version": 3
   },
   "file_extension": ".py",
   "mimetype": "text/x-python",
   "name": "python",
   "nbconvert_exporter": "python",
   "pygments_lexer": "ipython3",
   "version": "3.12.2"
  }
 },
 "nbformat": 4,
 "nbformat_minor": 2
}

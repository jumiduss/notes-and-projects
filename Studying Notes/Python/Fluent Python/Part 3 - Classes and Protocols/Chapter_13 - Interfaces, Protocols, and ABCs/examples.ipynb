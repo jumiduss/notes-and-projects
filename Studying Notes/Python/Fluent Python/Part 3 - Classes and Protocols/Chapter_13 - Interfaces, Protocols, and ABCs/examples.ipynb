{
 "cells": [
  {
   "cell_type": "markdown",
   "metadata": {},
   "source": [
    "Two Kinds of Protocols Examples"
   ]
  },
  {
   "cell_type": "code",
   "execution_count": 3,
   "metadata": {},
   "outputs": [
    {
     "name": "stdout",
     "output_type": "stream",
     "text": [
      "A\n",
      "U\n",
      "THE VOWEL: A\n",
      "THE VOWEL: E\n",
      "THE VOWEL: I\n",
      "THE VOWEL: O\n",
      "THE VOWEL: U\n",
      "True\n",
      "False\n"
     ]
    }
   ],
   "source": [
    "class Vowels:\n",
    "    def __getitem__(self, i):\n",
    "        return 'AEIOU'[i]\n",
    "\n",
    "v = Vowels()\n",
    "print(v[0])\n",
    "print(v[-1])\n",
    "for c in v: \n",
    "    print(\"THE VOWEL: \" + c)\n",
    "print('E' in v)\n",
    "print('Z' in v)"
   ]
  },
  {
   "cell_type": "markdown",
   "metadata": {},
   "source": [
    "Programming Ducks Examples"
   ]
  },
  {
   "cell_type": "code",
   "execution_count": 1,
   "metadata": {},
   "outputs": [
    {
     "name": "stdout",
     "output_type": "stream",
     "text": [
      "[Card(rank='2', suit='spades'), Card(rank='3', suit='spades'), Card(rank='4', suit='spades'), Card(rank='5', suit='spades'), Card(rank='6', suit='spades'), Card(rank='7', suit='spades'), Card(rank='8', suit='spades'), Card(rank='9', suit='spades'), Card(rank='10', suit='spades'), Card(rank='J', suit='spades'), Card(rank='Q', suit='spades'), Card(rank='K', suit='spades'), Card(rank='A', suit='spades'), Card(rank='2', suit='diamonds'), Card(rank='3', suit='diamonds'), Card(rank='4', suit='diamonds'), Card(rank='5', suit='diamonds'), Card(rank='6', suit='diamonds'), Card(rank='7', suit='diamonds'), Card(rank='8', suit='diamonds'), Card(rank='9', suit='diamonds'), Card(rank='10', suit='diamonds'), Card(rank='J', suit='diamonds'), Card(rank='Q', suit='diamonds'), Card(rank='K', suit='diamonds'), Card(rank='A', suit='diamonds'), Card(rank='2', suit='clubs'), Card(rank='3', suit='clubs'), Card(rank='4', suit='clubs'), Card(rank='5', suit='clubs'), Card(rank='6', suit='clubs'), Card(rank='7', suit='clubs'), Card(rank='8', suit='clubs'), Card(rank='9', suit='clubs'), Card(rank='10', suit='clubs'), Card(rank='J', suit='clubs'), Card(rank='Q', suit='clubs'), Card(rank='K', suit='clubs'), Card(rank='A', suit='clubs'), Card(rank='2', suit='hearts'), Card(rank='3', suit='hearts'), Card(rank='4', suit='hearts'), Card(rank='5', suit='hearts'), Card(rank='6', suit='hearts'), Card(rank='7', suit='hearts'), Card(rank='8', suit='hearts'), Card(rank='9', suit='hearts'), Card(rank='10', suit='hearts'), Card(rank='J', suit='hearts'), Card(rank='Q', suit='hearts'), Card(rank='K', suit='hearts'), Card(rank='A', suit='hearts')]\n",
      "[Card(rank='2', suit='hearts'), Card(rank='9', suit='spades'), Card(rank='4', suit='clubs'), Card(rank='10', suit='diamonds'), Card(rank='8', suit='clubs'), Card(rank='6', suit='spades'), Card(rank='6', suit='hearts'), Card(rank='J', suit='diamonds'), Card(rank='J', suit='hearts'), Card(rank='3', suit='spades'), Card(rank='A', suit='spades'), Card(rank='4', suit='spades'), Card(rank='3', suit='clubs'), Card(rank='10', suit='hearts'), Card(rank='8', suit='hearts'), Card(rank='2', suit='clubs'), Card(rank='A', suit='diamonds'), Card(rank='K', suit='diamonds'), Card(rank='5', suit='spades'), Card(rank='8', suit='spades'), Card(rank='Q', suit='clubs'), Card(rank='J', suit='spades'), Card(rank='10', suit='clubs'), Card(rank='6', suit='diamonds'), Card(rank='9', suit='hearts'), Card(rank='4', suit='diamonds'), Card(rank='K', suit='clubs'), Card(rank='5', suit='clubs'), Card(rank='9', suit='clubs'), Card(rank='7', suit='diamonds'), Card(rank='2', suit='spades'), Card(rank='7', suit='clubs'), Card(rank='K', suit='spades'), Card(rank='8', suit='diamonds'), Card(rank='Q', suit='spades'), Card(rank='4', suit='hearts'), Card(rank='6', suit='clubs'), Card(rank='Q', suit='hearts'), Card(rank='5', suit='diamonds'), Card(rank='7', suit='hearts'), Card(rank='A', suit='hearts'), Card(rank='3', suit='hearts'), Card(rank='A', suit='clubs'), Card(rank='K', suit='hearts'), Card(rank='9', suit='diamonds'), Card(rank='J', suit='clubs'), Card(rank='3', suit='diamonds'), Card(rank='5', suit='hearts'), Card(rank='7', suit='spades'), Card(rank='10', suit='spades'), Card(rank='Q', suit='diamonds'), Card(rank='2', suit='diamonds')]\n"
     ]
    }
   ],
   "source": [
    "import collections\n",
    "from random import shuffle\n",
    "\n",
    "\n",
    "Card = collections.namedtuple('Card', ['rank', 'suit'])\n",
    "\n",
    "class FrenchDeck:\n",
    "    ranks = [str(n) for n in range(2, 11)] + list('JQKA')\n",
    "    suits = 'spades diamonds clubs hearts'.split()\n",
    "    \n",
    "    def __init__(self):\n",
    "        self._cards = [Card(rank, suit) for suit in self.suits\n",
    "                                        for rank in self.ranks]\n",
    "    \n",
    "    def __len__(self):\n",
    "        return len(self._cards)\n",
    "    \n",
    "    def __getitem__(self, position):\n",
    "        return self._cards[position]\n",
    "\n",
    "# deck = FrenchDeck()\n",
    "# shuffle(deck) # returns TypeError\n",
    "\n",
    "def set_card(deck, position, card):\n",
    "    deck._cards[position] = card\n",
    "\n",
    "FrenchDeck.__setitem__ = set_card\n",
    "deck = FrenchDeck()\n",
    "\n",
    "print(deck._cards)\n",
    "shuffle(deck)\n",
    "print(deck._cards)"
   ]
  },
  {
   "cell_type": "markdown",
   "metadata": {},
   "source": [
    "Goose Typing Examples"
   ]
  },
  {
   "cell_type": "code",
   "execution_count": 2,
   "metadata": {},
   "outputs": [],
   "source": [
    "from collections import namedtuple, abc\n",
    "from random import shuffle\n",
    "\n",
    "\n",
    "Card = namedtuple('Card', ['rank', 'suit'])\n",
    "\n",
    "class FrenchDeck2(abc.MutableSequence):\n",
    "    ranks = [str(n) for n in range(2, 11)] + list('JQKA')\n",
    "    suits = 'spades diamonds clubs hearts'.split()\n",
    "    \n",
    "    def __init__(self):\n",
    "        self._cards = [Card(rank, suit) for suit in self.suits\n",
    "                                        for rank in self.ranks]\n",
    "    \n",
    "    def __len__(self):\n",
    "        return len(self._cards)\n",
    "    \n",
    "    def __getitem__(self, position):\n",
    "        return self._cards[position]\n",
    "    \n",
    "    def __setitem__(self, position, value):\n",
    "        self._cards[position] = value\n",
    "    \n",
    "    def __delitem__(self, position):\n",
    "        del self._cards[position]\n",
    "    \n",
    "    def insert(self, position, value):\n",
    "        self._cards.insert(position, value)\n"
   ]
  },
  {
   "cell_type": "code",
   "execution_count": 5,
   "metadata": {},
   "outputs": [],
   "source": [
    "import random\n",
    "from tombola import Tombola\n",
    "\n",
    "class BingoCage(Tombola):\n",
    "    \n",
    "    def __init__(self, items):\n",
    "        self._randomizer = random.SystemRandom()\n",
    "        self._items = []\n",
    "        self.load(items)\n",
    "    \n",
    "    def load(self, items):\n",
    "        self._items.extend(items)\n",
    "        self._randomizer.shuffle(self._items)\n",
    "    \n",
    "    def pick(self):\n",
    "        try:\n",
    "            return self._items.pop()\n",
    "        except IndexError:\n",
    "            raise LookupError('pick from empty BingoCage')\n",
    "    \n",
    "    def __call__(self):\n",
    "        self.pick()"
   ]
  },
  {
   "cell_type": "code",
   "execution_count": 6,
   "metadata": {},
   "outputs": [],
   "source": [
    "import random\n",
    "from tombola import Tombola\n",
    "\n",
    "class LottoBlower(Tombola):\n",
    "    \n",
    "    def __init__(self, iterable):\n",
    "        self._balls = list(iterable)\n",
    "    \n",
    "    def load(self, iterable):\n",
    "        self._balls.extend(iterable)\n",
    "    \n",
    "    def pick(self):\n",
    "        try:\n",
    "            position = random.randrange(len(self._balls))\n",
    "        except ValueError:\n",
    "            raise LookupError('pick from empty LottoBlower')\n",
    "        return self._balls.pop(position)\n",
    "\n",
    "    def loaded(self):\n",
    "        return bool(self._balls)\n",
    "\n",
    "    def inspect(self):\n",
    "        return tuple(self._balls)"
   ]
  },
  {
   "cell_type": "code",
   "execution_count": 7,
   "metadata": {},
   "outputs": [],
   "source": [
    "from random import randrange\n",
    "\n",
    "from tombola import Tombola\n",
    "\n",
    "\n",
    "@Tombola.register\n",
    "class TomboList(list):\n",
    "    \n",
    "    def pick(self):\n",
    "        if self:\n",
    "            position = randrange(len(self))\n",
    "            return self.pop(position)\n",
    "        else:\n",
    "            raise LookupError('pop from empty TomboList')\n",
    "    \n",
    "    load = list.extend\n",
    "\n",
    "    def loaded(self):\n",
    "        return bool(self)\n",
    "\n",
    "    def inspect(self):\n",
    "        return tuple(self)"
   ]
  },
  {
   "cell_type": "markdown",
   "metadata": {},
   "source": [
    "Static Protocols Examples"
   ]
  },
  {
   "cell_type": "code",
   "execution_count": 8,
   "metadata": {},
   "outputs": [],
   "source": [
    "from typing import TypeVar, Protocol\n",
    "\n",
    "def double(x):\n",
    "    return x * 2\n",
    "\n",
    "T = TypeVar('T')\n",
    "\n",
    "class Repeatable(Protocol):\n",
    "    def __mul__(self: T, repeat_count: int) -> T: ...\n",
    "\n",
    "RT = TypeVar('RT', bound=Repeatable)\n",
    "\n",
    "def double2(x: RT) -> RT:\n",
    "    return x * 2"
   ]
  },
  {
   "cell_type": "code",
   "execution_count": null,
   "metadata": {},
   "outputs": [],
   "source": [
    "import random\n",
    "from typing import Any, Iterable, TYPE_CHECKING, Protocol, runtime_checkable\n",
    "\n",
    "@runtime_checkable\n",
    "class RandomPicker(Protocol):\n",
    "    def pick(self) -> Any: ...\n",
    "\n",
    "class SimplePicker:\n",
    "    \n",
    "    def __init__(self, items:Iterable) -> None:\n",
    "        self._items = list(items)\n",
    "        random.shuffle(self._items)\n",
    "    \n",
    "    def pick(self) -> Any:\n",
    "        return self._items.pop()\n",
    "\n",
    "def test_isinstance() -> None:\n",
    "    popper: RandomPicker = SimplePicker([1])\n",
    "    assert isinstance(popper, RandomPicker)\n",
    "\n",
    "def test_item_type() -> None:\n",
    "    items = [1, 2]\n",
    "    popper = SimplePicker(items)\n",
    "    item = popper.pick()\n",
    "    assert item in items\n",
    "    if TYPE_CHECKING:\n",
    "        reveal_type(item) # For mypy static type checking console output.\n",
    "    assert isinstance(item, int)\n",
    "\n"
   ]
  }
 ],
 "metadata": {
  "kernelspec": {
   "display_name": "projects",
   "language": "python",
   "name": "python3"
  },
  "language_info": {
   "codemirror_mode": {
    "name": "ipython",
    "version": 3
   },
   "file_extension": ".py",
   "mimetype": "text/x-python",
   "name": "python",
   "nbconvert_exporter": "python",
   "pygments_lexer": "ipython3",
   "version": "3.12.2"
  }
 },
 "nbformat": 4,
 "nbformat_minor": 2
}

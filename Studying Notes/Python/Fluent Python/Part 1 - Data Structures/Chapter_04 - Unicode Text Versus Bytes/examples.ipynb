{
 "cells": [
  {
   "cell_type": "markdown",
   "metadata": {},
   "source": [
    "Handling Text Files Examples"
   ]
  },
  {
   "cell_type": "code",
   "execution_count": 6,
   "metadata": {},
   "outputs": [
    {
     "data": {
      "text/plain": [
       "'café'"
      ]
     },
     "execution_count": 6,
     "metadata": {},
     "output_type": "execute_result"
    }
   ],
   "source": [
    "open('cafe.txt', 'w', encoding='utf_8').write('café')\n",
    "open('cafe.txt').read()\n",
    "# If opening on a windows machine, this may result in a decoding error."
   ]
  },
  {
   "cell_type": "code",
   "execution_count": 8,
   "metadata": {},
   "outputs": [
    {
     "name": "stdout",
     "output_type": "stream",
     "text": [
      "<_io.TextIOWrapper name='cafe.txt' mode='w' encoding='utf_8'>\n"
     ]
    }
   ],
   "source": [
    "fp = open('cafe.txt', 'w', encoding='utf_8')\n",
    "print(fp)\n",
    "fp.write('café')\n",
    "fp.close()"
   ]
  },
  {
   "cell_type": "code",
   "execution_count": 18,
   "metadata": {},
   "outputs": [
    {
     "name": "stdout",
     "output_type": "stream",
     "text": [
      "5\n",
      "cafÃ©\n",
      "cp1252\n",
      "<_io.BufferedReader name='cafe.txt'>\n",
      "b'caf\\xc3\\xa9'\n"
     ]
    }
   ],
   "source": [
    "import os\n",
    "\n",
    "print(os.stat('cafe.txt').st_size)\n",
    "# fp2 = open('cafe.txt') # Note, will default encoding type to cp1252 if on windows\n",
    "fp2 = open('cafe.txt', encoding='cp1252')\n",
    "print(fp2.read())\n",
    "print(fp2.encoding)\n",
    "fp2.close()\n",
    "\n",
    "fp3 = open('cafe.txt', 'rb')  # Opens file for reading in binary mode\n",
    "print(fp3)\n",
    "print(fp3.read())"
   ]
  },
  {
   "cell_type": "markdown",
   "metadata": {},
   "source": [
    "Normalizing Unicode Examples"
   ]
  },
  {
   "cell_type": "code",
   "execution_count": 19,
   "metadata": {},
   "outputs": [
    {
     "name": "stdout",
     "output_type": "stream",
     "text": [
      "café café\n",
      "4 5\n",
      "False\n"
     ]
    }
   ],
   "source": [
    "s1 = 'café'\n",
    "s2 = 'cafe\\N{COMBINING ACUTE ACCENT}'\n",
    "print(s1, s2)\n",
    "print(len(s1), len(s2))\n",
    "print(s1 == s2)"
   ]
  },
  {
   "cell_type": "markdown",
   "metadata": {},
   "source": [
    "Extreme Normalization Examples "
   ]
  },
  {
   "cell_type": "code",
   "execution_count": 20,
   "metadata": {},
   "outputs": [
    {
     "name": "stdout",
     "output_type": "stream",
     "text": [
      "“Herr Voß: • 1⁄2 cup of ŒtkerTM caffe latte • bowl of acai.”\n",
      "Ζεφυρος, Zefiro\n"
     ]
    }
   ],
   "source": [
    "import unicodedata\n",
    "import string\n",
    "\n",
    "def shave_marks(txt):\n",
    "    \"\"\"Remove all diacritic marks\"\"\"\n",
    "    norm_txt = unicodedata.normalize('NFD', txt)\n",
    "    shaved = ''.join(c for c in norm_txt if not unicodedata.combining(c))\n",
    "    return unicodedata.normalize('NFC', shaved)\n",
    "\n",
    "order = '“Herr Voß: • 1⁄2 cup of ŒtkerTM caffè latte • bowl of açaí.”'\n",
    "print(shave_marks(order))\n",
    "# Note that the special e, c, i were replaced\n",
    "\n",
    "greek = 'Ζέφυρος, Zéfiro'\n",
    "print(shave_marks(greek))\n",
    "# Note that the two special e's were replaced"
   ]
  },
  {
   "cell_type": "code",
   "execution_count": null,
   "metadata": {},
   "outputs": [],
   "source": [
    "def shave_marks_latin(txt):\n",
    "    \"\"\"Remove all diacritic marks from Latin base characters\"\"\"\n",
    "    norm_txt = unicodedata.normalize('NFD', txt)\n",
    "    latin_base = False\n",
    "    preserve = []\n",
    "    for c in norm_txt:\n",
    "        if unicodedata.combining(c) and latin_base:\n",
    "            continue\n",
    "        preserve.append(c)\n",
    "        if not unicodedata.combining(c):\n",
    "            latin_base = c in string.ascii_letters\n",
    "    \n",
    "    shaved = ''.join(preserve)\n",
    "    return unicodedata.normalize('NFC', shaved)"
   ]
  },
  {
   "cell_type": "code",
   "execution_count": 35,
   "metadata": {},
   "outputs": [],
   "source": [
    "# Example Failed due to copy issues on the unicode text supplied from the book.\n",
    "# single_map = str.maketrans(\"\"\"‚ƒ„ˆ‹‘’“”•–— ̃›\"\"\", \"\"\"'ƒ\"^<''\"\"---~>\"\"\")\n",
    "# multi_map = str.maketrans({\n",
    "#     '€': 'EUR',\n",
    "#     '...': '...',\n",
    "#     'Æ': 'AE',\n",
    "#     'æ': 'ae',\n",
    "#     'Œ': 'OE',\n",
    "#     'œ': 'oe',\n",
    "#     'TM': '(TM)',\n",
    "#     '‰': '<per mille>',\n",
    "#     '†': '**',\n",
    "#     '‡': '***',\n",
    "# })\n",
    "\n",
    "# multi_map.update(single_map)\n"
   ]
  },
  {
   "cell_type": "markdown",
   "metadata": {},
   "source": [
    "Sorting Unicode Text Examples"
   ]
  },
  {
   "cell_type": "code",
   "execution_count": 38,
   "metadata": {},
   "outputs": [
    {
     "name": "stdout",
     "output_type": "stream",
     "text": [
      "['acerola', 'atemoia', 'açaí', 'caju', 'cajá']\n"
     ]
    }
   ],
   "source": [
    "fruits = ['caju', 'atemoia', 'cajá', 'açaí', 'acerola']\n",
    "print(sorted(fruits))"
   ]
  },
  {
   "cell_type": "code",
   "execution_count": 40,
   "metadata": {},
   "outputs": [
    {
     "name": "stdout",
     "output_type": "stream",
     "text": [
      "['açaí', 'acerola', 'atemoia', 'cajá', 'caju']\n"
     ]
    }
   ],
   "source": [
    "import pyuca\n",
    "coll = pyuca.Collator()\n",
    "fruits = ['caju', 'atemoia', 'cajá', 'açaí', 'acerola']\n",
    "sorted_fruits = sorted(fruits, key=coll.sort_key)\n",
    "print(sorted_fruits)"
   ]
  },
  {
   "cell_type": "markdown",
   "metadata": {},
   "source": [
    "Finding Characters by Name Examples"
   ]
  },
  {
   "cell_type": "code",
   "execution_count": 42,
   "metadata": {},
   "outputs": [
    {
     "name": "stdout",
     "output_type": "stream",
     "text": [
      "LATIN CAPITAL LETTER A\n"
     ]
    }
   ],
   "source": [
    "from unicodedata import name\n",
    "print(name('A'))"
   ]
  },
  {
   "cell_type": "code",
   "execution_count": 45,
   "metadata": {},
   "outputs": [],
   "source": [
    "import sys\n",
    "# import unicodedata\n",
    "\n",
    "START, END = ord(' '), sys.maxunicode + 1    # Set the default search range\n",
    "\n",
    "def find(*query_words, start=START, end=END):\n",
    "    \"\"\"Accepts query_words and optional kwargs to limit the search range.\"\"\"\n",
    "    \n",
    "    query = {w.upper() for w in query_words} # Convert the query_words to an uppercase strings\n",
    "    for code in range(start, end):\n",
    "        char = chr(code)                     # Get the unicode character\n",
    "        name = unicodedata.name(char, None)  # Get the char name\n",
    "        if name and query.issubset(name.split()): # If the name exists, see if the name is a subset of the query\n",
    "            print(f'U+{code:04X}\\t{char}\\t{name}') # Print the line with code point in the U+9999 format.\n",
    "\n",
    "def main(words):\n",
    "    if words:\n",
    "        find(*words)\n",
    "    else:\n",
    "        print(\"Please provide words to find.\")\n",
    "\n",
    "if __name__ == '__main__':\n",
    "    main(sys.argv[1:])"
   ]
  },
  {
   "cell_type": "markdown",
   "metadata": {},
   "source": [
    "Numeric Meaning of Characters Examples"
   ]
  },
  {
   "cell_type": "code",
   "execution_count": 48,
   "metadata": {},
   "outputs": [
    {
     "name": "stdout",
     "output_type": "stream",
     "text": [
      "U+0031\t  1   \tre_dig\tis_dig\tisnum\t 1.00\tDIGIT ONE\n",
      "U+00bc\t  ¼   \t-\t-\tisnum\t 0.25\tVULGAR FRACTION ONE QUARTER\n",
      "U+00b2\t  ²   \t-\tis_dig\tisnum\t 2.00\tSUPERSCRIPT TWO\n",
      "U+0969\t  ३   \tre_dig\tis_dig\tisnum\t 3.00\tDEVANAGARI DIGIT THREE\n",
      "U+136b\t  ፫   \t-\tis_dig\tisnum\t 3.00\tETHIOPIC DIGIT THREE\n",
      "U+216b\t  Ⅻ   \t-\t-\tisnum\t12.00\tROMAN NUMERAL TWELVE\n",
      "U+2466\t  ⑦   \t-\tis_dig\tisnum\t 7.00\tCIRCLED DIGIT SEVEN\n",
      "U+2480\t  ⒀   \t-\t-\tisnum\t13.00\tPARENTHESIZED NUMBER THIRTEEN\n",
      "U+3285\t  ㊅   \t-\t-\tisnum\t 6.00\tCIRCLED IDEOGRAPH SIX\n"
     ]
    }
   ],
   "source": [
    "import unicodedata\n",
    "import re\n",
    "\n",
    "re_digit = re.compile(r'\\d')\n",
    "sample = '1\\xbc\\xb2\\u0969\\u136b\\u216b\\u2466\\u2480\\u3285'\n",
    "\n",
    "for char in sample:\n",
    "    print (f'U+{ord(char):04x}',  \n",
    "            char.center(6),\n",
    "            're_dig' if re_digit.match(char) else '-', # If the character matches the r'\\d' regex\n",
    "            'is_dig' if char.isdigit() else '-',\n",
    "            'isnum' if char.isnumeric() else '-',\n",
    "            f'{unicodedata.numeric(char):5.2f}',\n",
    "            unicodedata.name(char),\n",
    "            sep='\\t'\n",
    "        )"
   ]
  }
 ],
 "metadata": {
  "kernelspec": {
   "display_name": "projects",
   "language": "python",
   "name": "python3"
  },
  "language_info": {
   "codemirror_mode": {
    "name": "ipython",
    "version": 3
   },
   "file_extension": ".py",
   "mimetype": "text/x-python",
   "name": "python",
   "nbconvert_exporter": "python",
   "pygments_lexer": "ipython3",
   "version": "3.12.2"
  }
 },
 "nbformat": 4,
 "nbformat_minor": 2
}

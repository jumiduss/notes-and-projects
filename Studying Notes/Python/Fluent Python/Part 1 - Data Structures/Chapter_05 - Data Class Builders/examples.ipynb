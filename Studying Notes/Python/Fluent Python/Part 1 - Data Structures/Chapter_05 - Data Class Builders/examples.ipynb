{
 "cells": [
  {
   "cell_type": "markdown",
   "metadata": {},
   "source": [
    "Overview of Data Class Builders Examples"
   ]
  },
  {
   "cell_type": "code",
   "execution_count": 2,
   "metadata": {},
   "outputs": [
    {
     "name": "stdout",
     "output_type": "stream",
     "text": [
      "False\n"
     ]
    }
   ],
   "source": [
    "class Coordinate:\n",
    "\n",
    "    def __init__(self, lat, lon):\n",
    "        self.lat = lat\n",
    "        self.lon = lon\n",
    "    \n",
    "moscow = Coordinate(55.76, 37.62)\n",
    "location = Coordinate(55.76, 37.62)\n",
    "print(location == moscow)  # Note that the class objects do not equate."
   ]
  },
  {
   "cell_type": "code",
   "execution_count": 7,
   "metadata": {},
   "outputs": [
    {
     "name": "stdout",
     "output_type": "stream",
     "text": [
      "True\n",
      "True\n"
     ]
    }
   ],
   "source": [
    "from collections import namedtuple\n",
    "\n",
    "Coordinate = namedtuple('Coordinate', 'lat lon')\n",
    "print(issubclass(Coordinate, tuple))\n",
    "\n",
    "moscow = Coordinate(55.76, 37.62)\n",
    "location = Coordinate(55.76, 37.62)\n",
    "print(moscow == location)"
   ]
  },
  {
   "cell_type": "code",
   "execution_count": 9,
   "metadata": {},
   "outputs": [
    {
     "name": "stdout",
     "output_type": "stream",
     "text": [
      "True\n",
      "{'lat': <class 'float'>, 'lon': <class 'float'>}\n"
     ]
    }
   ],
   "source": [
    "import typing\n",
    "\n",
    "Coordinate = typing.NamedTuple('Coordinate', [('lat', float), ('lon', float)])\n",
    "print(issubclass(Coordinate, tuple))\n",
    "print(typing.get_type_hints(Coordinate))"
   ]
  },
  {
   "cell_type": "markdown",
   "metadata": {},
   "source": [
    "Sub-Classing typing.NamedTuple Examples"
   ]
  },
  {
   "cell_type": "code",
   "execution_count": 10,
   "metadata": {},
   "outputs": [],
   "source": [
    "from typing import NamedTuple\n",
    "\n",
    "class Coordinate(NamedTuple):\n",
    "    lat: float\n",
    "    lon: float\n",
    "    \n",
    "    def __str__(self):\n",
    "        ns = 'N' if self.lat >= 0 else 'S'\n",
    "        we = 'E' if self.lon >= 0 else 'W'\n",
    "        return f'{abs(self.lat):.1f}°{ns}, {abs(self.lon):.1f}°{we}'"
   ]
  },
  {
   "cell_type": "code",
   "execution_count": null,
   "metadata": {},
   "outputs": [],
   "source": [
    "from dataclasses import dataclass\n",
    "\n",
    "@dataclass(frozen=True)\n",
    "class Coordinate:\n",
    "    lat: float\n",
    "    lon: float\n",
    "    \n",
    "    def __str__(self):\n",
    "        ns = 'N' if self.lat >= 0 else 'S'\n",
    "        we = 'E' if self.lon >= 0 else 'W'\n",
    "        return f'{abs(self.lat):.1f}°{ns}, {abs(self.lon):.1f}°{we}'"
   ]
  },
  {
   "cell_type": "markdown",
   "metadata": {},
   "source": [
    "Classing Named Tuples Examples"
   ]
  },
  {
   "cell_type": "code",
   "execution_count": 15,
   "metadata": {},
   "outputs": [
    {
     "name": "stdout",
     "output_type": "stream",
     "text": [
      "City(name='Tokyo', country='JP', population=36.933, coordinates=(35.689722, 139.691667))\n",
      "36.933\n",
      "(35.689722, 139.691667)\n",
      "JP\n",
      "('name', 'country', 'population', 'coordinates')\n",
      "{'name': 'Delhi NCR', 'country': 'IN', 'population': 21.935, 'coordinates': Coordinate(lat=28.613889, lon=77.208889)}\n",
      "{\"name\": \"Delhi NCR\", \"country\": \"IN\", \"population\": 21.935, \"coordinates\": [28.613889, 77.208889]}\n",
      "Coordinate(lat=0, lon=0, reference='WGS84')\n",
      "{'reference': 'WGS84'}\n"
     ]
    }
   ],
   "source": [
    "from collections import namedtuple\n",
    "import json\n",
    "\n",
    "City = namedtuple('City', 'name country population coordinates')\n",
    "tokyo = City('Tokyo', 'JP', 36.933, (35.689722, 139.691667))\n",
    "print(tokyo)\n",
    "print(tokyo.population)\n",
    "print(tokyo.coordinates)\n",
    "print(tokyo[1])\n",
    "\n",
    "print(City._fields)\n",
    "Coordinate = namedtuple('Coordinate', 'lat lon')\n",
    "delhi_data = ('Delhi NCR', 'IN', 21.935, Coordinate(28.613889, 77.208889))\n",
    "delhi = City._make(delhi_data)\n",
    "print(delhi._asdict())\n",
    "print(json.dumps(delhi._asdict()))\n",
    "\n",
    "Coordinate = namedtuple('Coordinate', 'lat lon reference', defaults=['WGS84'])\n",
    "print(Coordinate(0, 0))\n",
    "print(Coordinate._field_defaults)\n"
   ]
  },
  {
   "cell_type": "markdown",
   "metadata": {},
   "source": [
    "Hacking the Named Tuple to Inject Methods"
   ]
  },
  {
   "cell_type": "code",
   "execution_count": 16,
   "metadata": {},
   "outputs": [
    {
     "name": "stdout",
     "output_type": "stream",
     "text": [
      "0\n",
      "51\n"
     ]
    }
   ],
   "source": [
    "import collections\n",
    "Card = collections.namedtuple('Card', ['rank','suit'])\n",
    "\n",
    "def spades_high(card):\n",
    "    rank_value = FrenchDeck.ranks.index(card.rank)\n",
    "    suit_value = card.suit_values[card.suit]\n",
    "    return rank_value * len(card.suit_values) + suit_value\n",
    "\n",
    "class FrenchDeck:\n",
    "    ranks = [str(n) for n in range(2, 11)] + list('JQKA')\n",
    "    suits = 'spades diamonds clubs hearts'.split()\n",
    "    Card.suit_values = dict(spades=3, hearts=2, diamonds=1, clubs=0)\n",
    "    \n",
    "    def __init__(self):\n",
    "        self._cards = [Card(rank, suit) for suit in self.suits\n",
    "                                        for rank in self.ranks]\n",
    "    \n",
    "    def __len__(self):\n",
    "        return len(self._cards)\n",
    "\n",
    "    def __getitem__(self, position):\n",
    "        return self._cards[position]\n",
    "\n",
    "\n",
    "Card.overall_rank = spades_high\n",
    "lowest_card = Card('2', 'clubs')\n",
    "highest_card = Card('A', 'spades')\n",
    "print(lowest_card.overall_rank())\n",
    "print(highest_card.overall_rank())"
   ]
  },
  {
   "cell_type": "markdown",
   "metadata": {},
   "source": [
    "Typed Named Tuples Examples"
   ]
  },
  {
   "cell_type": "code",
   "execution_count": 17,
   "metadata": {},
   "outputs": [],
   "source": [
    "from typing import NamedTuple\n",
    "\n",
    "class Coordinate(NamedTuple):\n",
    "    \"\"\"Every instance field must be annotated with a type.\"\"\"\n",
    "    lat: float\n",
    "    lon: float\n",
    "    reference: str = 'WGS84'"
   ]
  },
  {
   "cell_type": "markdown",
   "metadata": {},
   "source": [
    "Type Hints Examples"
   ]
  },
  {
   "cell_type": "code",
   "execution_count": 4,
   "metadata": {},
   "outputs": [
    {
     "name": "stdout",
     "output_type": "stream",
     "text": [
      "{'a': <class 'int'>, 'b': <class 'float'>}\n",
      "1.1 span\n"
     ]
    }
   ],
   "source": [
    "class DemoPlainClass:\n",
    "    a: int              # Becomes an entry in __annotations__ \n",
    "    b: float = 1.1      # Saved as an annotation, and becomes a class attribute\n",
    "    c = 'span'          # A non-annotated attribute\n",
    "\n",
    "# Verifying Class annotations\n",
    "print(DemoPlainClass.__annotations__)\n",
    "# print(DemoPlainClass.a, DemoPlainClass.b, DemoPlainClass.c) # Raises AttributeError\n",
    "print(DemoPlainClass.b, DemoPlainClass.c)"
   ]
  },
  {
   "cell_type": "code",
   "execution_count": 20,
   "metadata": {},
   "outputs": [
    {
     "name": "stdout",
     "output_type": "stream",
     "text": [
      "{'a': <class 'int'>, 'b': <class 'float'>}\n",
      "DemoNTClass(a, b)\n",
      "_tuplegetter(0, 'Alias for field number 0') \n",
      " _tuplegetter(1, 'Alias for field number 1') \n",
      " spam\n",
      "8 \n",
      " 1.1 \n",
      " spam\n"
     ]
    }
   ],
   "source": [
    "from typing import NamedTuple\n",
    "class DemoNTClass(NamedTuple):\n",
    "    a: int\n",
    "    b: float = 1.1\n",
    "    c = 'spam'\n",
    "    # Note that only b is considered an optional argument on class creation.\n",
    "# Verifying Class annotations\n",
    "print(DemoNTClass.__annotations__)\n",
    "print(DemoNTClass.__doc__)\n",
    "print(DemoNTClass.a, '\\n', DemoNTClass.b, '\\n', DemoNTClass.c)\n",
    "\n",
    "# Creating a class instance\n",
    "nt = DemoNTClass(8)\n",
    "print(nt.a, '\\n', nt.b, '\\n', nt.c)\n",
    "\n",
    "# Finding differences in error messages between nt.a, nt.b, nt.c\n",
    "# nt.a = 1 # AttributeError, can't set attribute\n",
    "# nt.b = 5 # AttributeError, can't set attribute\n",
    "# nt.c = 1 # AttributeError, object attribute is read-only"
   ]
  },
  {
   "cell_type": "code",
   "execution_count": 24,
   "metadata": {},
   "outputs": [
    {
     "name": "stdout",
     "output_type": "stream",
     "text": [
      "{'a': <class 'int'>, 'b': <class 'float'>}\n",
      "DemoDataClass(a: int, b: float = 1.1)\n",
      "\n",
      " 1.1 \n",
      " spam\n",
      "9 1.1 spam\n"
     ]
    }
   ],
   "source": [
    "from dataclasses import dataclass\n",
    "\n",
    "@dataclass\n",
    "class DemoDataClass:\n",
    "    a: int          # annotation and instance attribute controlled by the descriptor\n",
    "    b: float = 1.1  # annotation and attribute controlled by descriptor with default value\n",
    "    c = 'spam'      # class attribute with no annotation reference\n",
    "    \n",
    "\n",
    "print(DemoDataClass.__annotations__)\n",
    "print(DemoDataClass.__doc__)\n",
    "# print(DemoDataClass.a, '\\n', DemoDataClass.b, '\\n', DemoDataClass.c) # Same results as above\n",
    "print('\\n', DemoDataClass.b, '\\n', DemoDataClass.c)\n",
    "\n",
    "dc = DemoDataClass(9)\n",
    "print(dc.a, dc.b, dc.c)"
   ]
  },
  {
   "cell_type": "markdown",
   "metadata": {},
   "source": [
    "@dataclass Examples"
   ]
  },
  {
   "cell_type": "code",
   "execution_count": 28,
   "metadata": {},
   "outputs": [],
   "source": [
    "from dataclasses import dataclass, field\n",
    "\n",
    "@dataclass\n",
    "class ClubMember:\n",
    "    name: str\n",
    "    # guests: list = []\n",
    "    # Raises ValueError - mutable default for field guests is not allowed, use default_factory\n",
    "    guests: list = field(default_factory=list)\n",
    "    "
   ]
  },
  {
   "cell_type": "markdown",
   "metadata": {},
   "source": [
    "@dataclass Default Field Function Examples"
   ]
  },
  {
   "cell_type": "code",
   "execution_count": 30,
   "metadata": {},
   "outputs": [],
   "source": [
    "from dataclasses import dataclass, field\n",
    "\n",
    "@dataclass\n",
    "class ClubMember:\n",
    "    name: str\n",
    "    guests: list = field(default_factory=list)\n",
    "    athlete: bool = field(default=False, repr=False)"
   ]
  },
  {
   "cell_type": "markdown",
   "metadata": {},
   "source": [
    "Post-init Processing Examples"
   ]
  },
  {
   "cell_type": "code",
   "execution_count": 35,
   "metadata": {},
   "outputs": [],
   "source": [
    "from dataclasses import dataclass, field\n",
    "\n",
    "@dataclass\n",
    "class ClubMember:\n",
    "    name: str\n",
    "    guests: list = field(default_factory=list)\n",
    "    athlete: bool = field(default=False, repr=False)\n",
    "    \n",
    "@dataclass\n",
    "class HackerClubMember(ClubMember):\n",
    "    all_handles = set() #***NOTE***: This is a mutable attribute shared between all class instances.\n",
    "    handle: str = ''\n",
    "    \n",
    "    def __post_init__(self):\n",
    "        cls = self.__class__\n",
    "        if self.handle == '':\n",
    "            self.handle = self.name.split()[0]\n",
    "            \n",
    "        if self.handle in cls.all_handles:\n",
    "            msg = f'handle {self.handle!r} already exists.'\n",
    "            raise ValueError(msg)\n",
    "        cls.all_handles.add(self.handle)"
   ]
  },
  {
   "cell_type": "markdown",
   "metadata": {},
   "source": [
    "InitVar Examples"
   ]
  },
  {
   "cell_type": "code",
   "execution_count": 58,
   "metadata": {},
   "outputs": [],
   "source": [
    "from dataclasses import dataclass, InitVar\n",
    "import json\n",
    "my_database = json.dumps({'a_name':'value_a', 'b_name':'value_b'})\n",
    "\n",
    "@dataclass\n",
    "class C:\n",
    "    i: int\n",
    "    j: int = None\n",
    "    database: InitVar[json] = None \n",
    "    \n",
    "    def __post_init__(self, database):\n",
    "        if self.j is None and database is not None:\n",
    "            # self.j = ascii(database.lookup('j'))\n",
    "            pass\n",
    "\n",
    "c = C(10, database=my_database)"
   ]
  },
  {
   "cell_type": "markdown",
   "metadata": {},
   "source": [
    "@dataclass Examples"
   ]
  },
  {
   "cell_type": "code",
   "execution_count": 69,
   "metadata": {},
   "outputs": [
    {
     "name": "stdout",
     "output_type": "stream",
     "text": [
      "Resource(\n",
      "    identifier = '978-0-13-475759-9',\n",
      "    title = 'Refactoring, 2nd Edition',\n",
      "    creators = ['Martin Fowler', 'Kent Beck'],\n",
      "    date = datetime.date(2018, 11, 19),\n",
      "    type = <ResourceType.BOOK: 1>,\n",
      "    description = 'Improving the design of existing code',\n",
      "    language = 'EN',\n",
      "    subjects = ['computer programming', 'OOP'],\n",
      ")\n"
     ]
    }
   ],
   "source": [
    "from dataclasses import dataclass, field, fields\n",
    "from typing import Optional\n",
    "from enum import Enum, auto\n",
    "import datetime\n",
    "\n",
    "class ResourceType(Enum):\n",
    "    BOOK = auto()\n",
    "    EBOOK = auto()\n",
    "    VIDEO = auto()\n",
    "\n",
    "@dataclass\n",
    "class Resource:\n",
    "    \"\"\"Media resource description\"\"\"\n",
    "    identifier: str\n",
    "    title: str = '<untitled>'\n",
    "    creators: list[str] = field(default_factory=list)\n",
    "    date: Optional[datetime.date] = None\n",
    "    type: ResourceType = ResourceType.BOOK\n",
    "    description: str = ''\n",
    "    language: str = ''\n",
    "    subjects: list[str] = field(default_factory=list)\n",
    "    \n",
    "    def __repr__(self):\n",
    "        cls = self.__class__\n",
    "        cls_name = cls.__name__\n",
    "        indent = ' ' * 4\n",
    "        res = [f'{cls_name}(']\n",
    "        for f in fields(cls):\n",
    "            value = getattr(self, f.name)\n",
    "            res.append(f'{indent}{f.name} = {value!r},')\n",
    "        res.append(')')\n",
    "        return '\\n'.join(res)\n",
    "    \n",
    "description = 'Improving the design of existing code'\n",
    "book = Resource('978-0-13-475759-9', 'Refactoring, 2nd Edition',\n",
    "                ['Martin Fowler', 'Kent Beck'], datetime.date(2018, 11, 19),\n",
    "                ResourceType.BOOK, description, 'EN',\n",
    "                ['computer programming', 'OOP'])\n",
    "\n",
    "print(book)"
   ]
  },
  {
   "cell_type": "markdown",
   "metadata": {},
   "source": [
    "Keyword Class Patterns Examples"
   ]
  },
  {
   "cell_type": "code",
   "execution_count": 70,
   "metadata": {},
   "outputs": [
    {
     "name": "stdout",
     "output_type": "stream",
     "text": [
      "['JP', 'IN']\n"
     ]
    }
   ],
   "source": [
    "import typing \n",
    "\n",
    "class City(typing.NamedTuple):\n",
    "    continent: str\n",
    "    name: str\n",
    "    country: str\n",
    "\n",
    "cities = [\n",
    "    City('Asia', 'Tokyo', 'JP'),\n",
    "    City('Asia', 'Delhi', 'IN'),\n",
    "    City('North America', 'Mexico City', 'MX'),\n",
    "    City('North America', 'New York', 'US'),\n",
    "    City('South America', 'São Paulo', 'BR'),\n",
    "]\n",
    "\n",
    "def match_asian_countries():\n",
    "    results = []\n",
    "    for city in cities:\n",
    "        match city:\n",
    "            case City(continent='Asia', country=cc):\n",
    "                results.append(cc)\n",
    "    return results\n",
    "\n",
    "print(match_asian_countries())"
   ]
  },
  {
   "cell_type": "markdown",
   "metadata": {},
   "source": [
    "Positional Class Patterns Examples"
   ]
  },
  {
   "cell_type": "code",
   "execution_count": 73,
   "metadata": {},
   "outputs": [
    {
     "name": "stdout",
     "output_type": "stream",
     "text": [
      "[City(continent='Asia', name='Tokyo', country='JP'), City(continent='Asia', name='Delhi', country='IN')]\n"
     ]
    }
   ],
   "source": [
    "def match_asian_cities_pos():\n",
    "    results = []\n",
    "    for city in cities:\n",
    "        match city:\n",
    "            case City('Asia'):\n",
    "                results.append(city)\n",
    "    return results\n",
    "\n",
    "print(match_asian_cities_pos())"
   ]
  },
  {
   "cell_type": "code",
   "execution_count": 75,
   "metadata": {},
   "outputs": [
    {
     "name": "stdout",
     "output_type": "stream",
     "text": [
      "['JP', 'IN']\n"
     ]
    }
   ],
   "source": [
    "def match_asian_countries_pos():\n",
    "    results = []\n",
    "    for city in cities:\n",
    "        match city:\n",
    "            case City('Asia', _, country):\n",
    "                results.append(country)\n",
    "    return results\n",
    "\n",
    "print(match_asian_countries_pos())"
   ]
  }
 ],
 "metadata": {
  "kernelspec": {
   "display_name": "projects",
   "language": "python",
   "name": "python3"
  },
  "language_info": {
   "codemirror_mode": {
    "name": "ipython",
    "version": 3
   },
   "file_extension": ".py",
   "mimetype": "text/x-python",
   "name": "python",
   "nbconvert_exporter": "python",
   "pygments_lexer": "ipython3",
   "version": "3.12.2"
  }
 },
 "nbformat": 4,
 "nbformat_minor": 2
}

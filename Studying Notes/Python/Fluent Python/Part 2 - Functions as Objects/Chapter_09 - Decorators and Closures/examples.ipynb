{
 "cells": [
  {
   "cell_type": "markdown",
   "metadata": {},
   "source": [
    "Decorator 101 Examples"
   ]
  },
  {
   "cell_type": "code",
   "execution_count": 1,
   "metadata": {},
   "outputs": [
    {
     "name": "stdout",
     "output_type": "stream",
     "text": [
      "running inner()\n",
      "None\n",
      "<function deco.<locals>.inner at 0x757eecd23ba0>\n"
     ]
    }
   ],
   "source": [
    "def deco(func):\n",
    "    def inner():\n",
    "        print('running inner()')\n",
    "    return inner\n",
    "\n",
    "@deco\n",
    "def target():\n",
    "    print('running a target()')\n",
    "\n",
    "# The above is functionally the same as:\n",
    "# def target():\n",
    "#     print('running target()')\n",
    "# target = deco(target)\n",
    "\n",
    "target()\n",
    "print(target)"
   ]
  },
  {
   "cell_type": "markdown",
   "metadata": {},
   "source": [
    "When Python Executes a Decorator Examples"
   ]
  },
  {
   "cell_type": "code",
   "execution_count": 5,
   "metadata": {},
   "outputs": [
    {
     "name": "stdout",
     "output_type": "stream",
     "text": [
      "running register(<function f1 at 0x757eecd90f40>)\n",
      "running register(<function f2 at 0x757eecd93e20>)\n",
      "running main()\n",
      "registry ->  [<function f1 at 0x757eecd90f40>, <function f2 at 0x757eecd93e20>]\n",
      "running f1\n",
      "running f2\n",
      "running f3\n"
     ]
    }
   ],
   "source": [
    "registry = []\n",
    "\n",
    "def register(func):\n",
    "    print(f'running register({func})')\n",
    "    registry.append(func)\n",
    "    return func\n",
    "\n",
    "@register\n",
    "def f1():\n",
    "    print('running f1')\n",
    "\n",
    "@register\n",
    "def f2():\n",
    "    print('running f2')\n",
    "\n",
    "def f3():\n",
    "    print('running f3')\n",
    "\n",
    "def main():\n",
    "    print('running main()')\n",
    "    print('registry -> ', registry)\n",
    "    f1()\n",
    "    f2()\n",
    "    f3()\n",
    "\n",
    "main()"
   ]
  },
  {
   "cell_type": "markdown",
   "metadata": {},
   "source": [
    "Variable Scope Rules Examples"
   ]
  },
  {
   "cell_type": "code",
   "execution_count": 7,
   "metadata": {},
   "outputs": [
    {
     "name": "stdout",
     "output_type": "stream",
     "text": [
      "3\n",
      "6\n"
     ]
    }
   ],
   "source": [
    "def fu1(a):\n",
    "    print(a)\n",
    "    print(b) \n",
    "\n",
    "# fu1(3) # Returns NameError because b was never defined\n",
    "\n",
    "b = 6\n",
    "fu1(3)\n",
    "\n",
    "def fu2(a):\n",
    "    print(a)\n",
    "    # Returns UnboundLocalError, because b is now considered local, and called before assignment\n",
    "    # print(b) \n",
    "    # b = 9\n",
    "\n",
    "def fu3(a):\n",
    "    global b\n",
    "    print(a)\n",
    "    print(b)\n",
    "    b = 9"
   ]
  },
  {
   "cell_type": "markdown",
   "metadata": {},
   "source": [
    "Closures Examples"
   ]
  },
  {
   "cell_type": "code",
   "execution_count": 10,
   "metadata": {},
   "outputs": [
    {
     "name": "stdout",
     "output_type": "stream",
     "text": [
      "10.0\n",
      "10.5\n",
      "11.0\n",
      "10.0\n",
      "10.5\n",
      "11.0\n"
     ]
    }
   ],
   "source": [
    "from typing import Any\n",
    "\n",
    "\n",
    "class Averager():\n",
    "    \n",
    "    def __init__(self):\n",
    "        self.series = []\n",
    "    \n",
    "    def __call__(self, new_value):\n",
    "        self.series.append(new_value)\n",
    "        total = sum(self.series)\n",
    "        return total / len(self.series)\n",
    "\n",
    "def make_averager():\n",
    "    series = []\n",
    "    # The closure for averager extends its scope to include the binding for free variables.\n",
    "    def averager(new_value):\n",
    "        series.append(new_value)\n",
    "        total = sum(series)\n",
    "        return total / len(series)\n",
    "    \n",
    "    return averager\n",
    "\n",
    "avg = Averager()\n",
    "print(avg(10))\n",
    "print(avg(11))\n",
    "print(avg(12))\n",
    "\n",
    "avg1 = make_averager()\n",
    "print(avg1(10))\n",
    "print(avg1(11))\n",
    "print(avg1(12))"
   ]
  },
  {
   "cell_type": "markdown",
   "metadata": {},
   "source": [
    "Standard Library Decorators Examples"
   ]
  },
  {
   "cell_type": "code",
   "execution_count": 12,
   "metadata": {},
   "outputs": [
    {
     "name": "stdout",
     "output_type": "stream",
     "text": [
      "[0.00000031s] fibonacci(0) -> 0\n",
      "[0.00000043s] fibonacci(1) -> 1\n",
      "[0.00006875s] fibonacci(2) -> 1\n",
      "[0.00000017s] fibonacci(1) -> 1\n",
      "[0.00000016s] fibonacci(0) -> 0\n",
      "[0.00000013s] fibonacci(1) -> 1\n",
      "[0.00001503s] fibonacci(2) -> 1\n",
      "[0.00003191s] fibonacci(3) -> 2\n",
      "[0.00011719s] fibonacci(4) -> 3\n",
      "[0.00000011s] fibonacci(1) -> 1\n",
      "[0.00000010s] fibonacci(0) -> 0\n",
      "[0.00000013s] fibonacci(1) -> 1\n",
      "[0.00001343s] fibonacci(2) -> 1\n",
      "[0.00002646s] fibonacci(3) -> 2\n",
      "[0.00000011s] fibonacci(0) -> 0\n",
      "[0.00000013s] fibonacci(1) -> 1\n",
      "[0.00001342s] fibonacci(2) -> 1\n",
      "[0.00000010s] fibonacci(1) -> 1\n",
      "[0.00000012s] fibonacci(0) -> 0\n",
      "[0.00000013s] fibonacci(1) -> 1\n",
      "[0.00001379s] fibonacci(2) -> 1\n",
      "[0.00002619s] fibonacci(3) -> 2\n",
      "[0.00005149s] fibonacci(4) -> 3\n",
      "[0.00009030s] fibonacci(5) -> 5\n",
      "[0.00022215s] fibonacci(6) -> 8\n",
      "8\n"
     ]
    }
   ],
   "source": [
    "from clockdeco import clock\n",
    "\n",
    "@clock\n",
    "def fibonacci(n):\n",
    "    if n < 2:\n",
    "        return n\n",
    "    return fibonacci(n-2) + fibonacci(n-1)\n",
    "print(fibonacci(6))"
   ]
  },
  {
   "cell_type": "code",
   "execution_count": 15,
   "metadata": {},
   "outputs": [
    {
     "name": "stdout",
     "output_type": "stream",
     "text": [
      "[0.00000022s] fibonacci(0) -> 0\n",
      "[0.00000044s] fibonacci(1) -> 1\n",
      "[0.00005933s] fibonacci(2) -> 1\n",
      "[0.00000061s] fibonacci(3) -> 2\n",
      "[0.00007663s] fibonacci(4) -> 3\n",
      "[0.00000050s] fibonacci(5) -> 5\n",
      "[0.00009245s] fibonacci(6) -> 8\n",
      "8\n"
     ]
    }
   ],
   "source": [
    "import functools\n",
    "\n",
    "from clockdeco import clock\n",
    "\n",
    "@functools.cache\n",
    "@clock\n",
    "def fibonacci(n):\n",
    "    if n < 2:\n",
    "        return n\n",
    "    return fibonacci(n - 2) + fibonacci(n - 1)\n",
    "\n",
    "print(fibonacci(6))"
   ]
  },
  {
   "cell_type": "code",
   "execution_count": 20,
   "metadata": {},
   "outputs": [
    {
     "name": "stdout",
     "output_type": "stream",
     "text": [
      "<pre>{1, 2, 3}</pre>\n",
      "<built-in function abs>\n",
      "<pre>&#x27;Person and co \\n a game&#x27;</pre>\n",
      "<pre>42</pre>\n",
      "<pre>[&#x27;alpha&#x27;, 66, {1, 2, 3}]</pre>\n",
      "<pre>True</pre>\n",
      "<pre>Fraction(2, 3)</pre>\n",
      "<pre>0.6666666666666666</pre>\n",
      "<pre>Decimal(&#x27;0.02380952&#x27;)</pre>\n"
     ]
    }
   ],
   "source": [
    "import html\n",
    "import fractions\n",
    "import decimal\n",
    "\n",
    "def htmlize(obj):\n",
    "    content = html.escape(repr(obj))\n",
    "    return f'<pre>{content}</pre>'\n",
    "\n",
    "print(htmlize({1, 2, 3}))\n",
    "print(abs)\n",
    "print(htmlize('Person and co \\n a game'))\n",
    "print(htmlize(42))\n",
    "print(htmlize(['alpha', 66, {3, 2, 1}]))\n",
    "print(htmlize(True))\n",
    "print(htmlize(fractions.Fraction(2, 3)))\n",
    "print(htmlize(2/3))\n",
    "print(htmlize(decimal.Decimal('0.02380952')))\n",
    "\n",
    "# Note how this does not change the html tags based on the html object type."
   ]
  },
  {
   "cell_type": "code",
   "execution_count": 8,
   "metadata": {},
   "outputs": [
    {
     "name": "stdout",
     "output_type": "stream",
     "text": [
      "<pre>{1, 2, 3}</pre>\n",
      "<pre>&lt;built-in function abs&gt;</pre>\n",
      "<p>Person and co <br/>\n",
      "- a game</p>\n",
      "<pre>42 (0x2a)</pre>\n",
      "<ul>\n",
      "<li><p>alpha</p></li>\n",
      "<li><pre>66 (0x42)</pre></li>\n",
      "<li><pre>{1, 2, 3}</pre></li>\n",
      "</ul>\n",
      "<pre>True</pre>\n",
      "<pre>2/3</pre>\n",
      "<pre>0.6666666666666666 (2/3)</pre>\n",
      "<pre>0.02380952 (1/42)</pre>\n"
     ]
    }
   ],
   "source": [
    "from functools import singledispatch\n",
    "from collections import abc\n",
    "import fractions\n",
    "import decimal\n",
    "import html\n",
    "import numbers\n",
    "\n",
    "@singledispatch\n",
    "def htmlize(obj: object) -> str:\n",
    "    content = html.escape(repr(obj))\n",
    "    return f'<pre>{content}</pre>'\n",
    "\n",
    "@htmlize.register\n",
    "def _(text: str) -> str:\n",
    "    content = html.escape(text).replace('\\n', '<br/>\\n')\n",
    "    return f'<p>{content}</p>'\n",
    "\n",
    "@htmlize.register\n",
    "def _(seq: abc.Sequence) -> str:\n",
    "    inner = '</li>\\n<li>'.join(htmlize(item) for item in seq)\n",
    "    return '<ul>\\n<li>' + inner + '</li>\\n</ul>'\n",
    "\n",
    "@htmlize.register\n",
    "def _(n: numbers.Integral) -> str:\n",
    "    return f'<pre>{n} (0x{n:x})</pre>'\n",
    "\n",
    "@htmlize.register\n",
    "def _(n: bool) -> str:\n",
    "    return f'<pre>{n}</pre>'\n",
    "\n",
    "@htmlize.register(fractions.Fraction)\n",
    "def _(x) -> str:\n",
    "    frac = fractions.Fraction(x)\n",
    "    return f'<pre>{frac.numerator}/{frac.denominator}</pre>'\n",
    "\n",
    "@htmlize.register(decimal.Decimal)\n",
    "@htmlize.register(float)\n",
    "def _(x) -> str:\n",
    "    frac = fractions.Fraction(x).limit_denominator()\n",
    "    return f'<pre>{x} ({frac.numerator}/{frac.denominator})</pre>'\n",
    "\n",
    "print(htmlize({1, 2, 3}))\n",
    "print(htmlize(abs))\n",
    "print(htmlize('Person and co \\n- a game'))\n",
    "print(htmlize(42))\n",
    "print(htmlize(['alpha', 66, {3, 2, 1}]))\n",
    "print(htmlize(True))\n",
    "print(htmlize(fractions.Fraction(2, 3)))\n",
    "print(htmlize(2/3))\n",
    "print(htmlize(decimal.Decimal('0.02380952')))"
   ]
  },
  {
   "cell_type": "markdown",
   "metadata": {},
   "source": [
    "Parameterized Decorators Examples"
   ]
  },
  {
   "cell_type": "code",
   "execution_count": 12,
   "metadata": {},
   "outputs": [
    {
     "name": "stdout",
     "output_type": "stream",
     "text": [
      "running register(<function fv1 at 0x770dbeb9b740>)\n",
      "running main()\n",
      "running ->  [<function fv1 at 0x770dbeb9b740>]\n",
      "<function fv1 at 0x770dbeb9b740>\n"
     ]
    }
   ],
   "source": [
    "registry = []\n",
    "\n",
    "def register(func):\n",
    "    print(f'running register({func})')\n",
    "    registry.append(func)\n",
    "    return func\n",
    "\n",
    "@register\n",
    "def fv1():\n",
    "    print('running f1()')\n",
    "\n",
    "print('running main()')\n",
    "print('running -> ', registry)\n",
    "print(fv1) "
   ]
  },
  {
   "cell_type": "code",
   "execution_count": 16,
   "metadata": {},
   "outputs": [
    {
     "name": "stdout",
     "output_type": "stream",
     "text": [
      "running register(active=False)->decorate(<function fc1 at 0x770dbd739e40>)\n",
      "running register(active=True)->decorate(<function fc2 at 0x770dbd739d00>)\n",
      "{<function fc2 at 0x770dbd739d00>}\n",
      "running register(active=True)->decorate(<function fc3 at 0x770dbd739c60>)\n",
      "<function fc3 at 0x770dbd739c60>\n",
      "{<function fc2 at 0x770dbd739d00>, <function fc3 at 0x770dbd739c60>}\n",
      "running register(active=False)->decorate(<function fc2 at 0x770dbd739d00>)\n",
      "<function fc2 at 0x770dbd739d00>\n",
      "{<function fc3 at 0x770dbd739c60>}\n"
     ]
    }
   ],
   "source": [
    "registry = set()\n",
    "\n",
    "def register(active=True):\n",
    "    def decorate(func):\n",
    "        print('running register' f'(active={active})->decorate({func})')\n",
    "        if active:\n",
    "            registry.add(func)\n",
    "        else:\n",
    "            registry.discard(func)\n",
    "        return func\n",
    "    return decorate\n",
    "\n",
    "@register(active=False)\n",
    "def fc1():\n",
    "    print('running fc1()')\n",
    "    \n",
    "@register()\n",
    "def fc2():\n",
    "    print('running fc2()')\n",
    "\n",
    "def fc3():\n",
    "    print('running fc3()')\n",
    "\n",
    "print(registry)\n",
    "print(register()(fc3))\n",
    "print(registry)\n",
    "print(register(active=False)(fc2))\n",
    "print(registry)"
   ]
  },
  {
   "cell_type": "code",
   "execution_count": 20,
   "metadata": {},
   "outputs": [
    {
     "name": "stdout",
     "output_type": "stream",
     "text": [
      "[0.12318084s] snooze(0.123) -> None\n",
      "[0.12320078s] snooze(0.123) -> None\n",
      "[0.12307316s] snooze(0.123) -> None\n"
     ]
    }
   ],
   "source": [
    "import time\n",
    "\n",
    "DEFAULT_FMT = '[{elapsed:0.8f}s] {name}({args}) -> {result}'\n",
    "\n",
    "def clock(fmt=DEFAULT_FMT):\n",
    "    def decorate(func):\n",
    "        def clocked(*_args):\n",
    "            t0 = time.perf_counter()\n",
    "            _result = func(*_args)\n",
    "            elapsed = time.perf_counter() - t0\n",
    "            name = func.__name__\n",
    "            args = ', '.join(repr(arg) for arg in _args)\n",
    "            result = repr(_result)\n",
    "            print(fmt.format(**locals()))\n",
    "            return _result\n",
    "        return clocked\n",
    "    return decorate\n",
    "\n",
    "if __name__ == '__main__':\n",
    "    @clock()\n",
    "    def snooze(seconds):\n",
    "        time.sleep(seconds)\n",
    "\n",
    "    for i in range(3):\n",
    "        snooze(.123)"
   ]
  },
  {
   "cell_type": "code",
   "execution_count": 23,
   "metadata": {},
   "outputs": [
    {
     "name": "stdout",
     "output_type": "stream",
     "text": [
      "snooze: 0.12316481500056398s\n",
      "snooze: 0.12312400900009379s\n",
      "snooze: 0.12309593499958282s\n"
     ]
    }
   ],
   "source": [
    "import time\n",
    "from clockdeco_param import clock\n",
    "\n",
    "@clock('{name}: {elapsed}s')\n",
    "def snooze(seconds):\n",
    "    time.sleep(seconds)\n",
    "\n",
    "for i in range(3):\n",
    "    snooze(.123)"
   ]
  },
  {
   "cell_type": "code",
   "execution_count": 25,
   "metadata": {},
   "outputs": [
    {
     "name": "stdout",
     "output_type": "stream",
     "text": [
      "snooze(0.123) dt=0.123s\n",
      "snooze(0.123) dt=0.123s\n",
      "snooze(0.123) dt=0.123s\n"
     ]
    }
   ],
   "source": [
    "import time\n",
    "from clockdeco_param import clock\n",
    "\n",
    "@clock('{name}({args}) dt={elapsed:0.3f}s')\n",
    "def snooze(seconds):\n",
    "    time.sleep(seconds)\n",
    "\n",
    "for i in range(3):\n",
    "    snooze(.123)"
   ]
  },
  {
   "cell_type": "code",
   "execution_count": 26,
   "metadata": {},
   "outputs": [],
   "source": [
    "import time\n",
    "\n",
    "DEFAULT_FMT = '[{elapsed:0.8f}s] {name}({args}) -> {result}'\n",
    "\n",
    "class clock:\n",
    "    def __init__(self, fmt=DEFAULT_FMT):\n",
    "        self.fmt = fmt\n",
    "    \n",
    "    def __call__(self, func):\n",
    "        def clocked(*_args):\n",
    "            t0 = time.perf_counter()\n",
    "            _result = func(*_args)\n",
    "            elapsed = time.perf_counter() - t0\n",
    "            name = func.__name__\n",
    "            args = ', '.join(repr(arg) for arg in _args)\n",
    "            result = repr(_result)\n",
    "            print(self.fmt.format(**locals()))\n",
    "            return _result\n",
    "        return clocked"
   ]
  }
 ],
 "metadata": {
  "kernelspec": {
   "display_name": "projects",
   "language": "python",
   "name": "python3"
  },
  "language_info": {
   "codemirror_mode": {
    "name": "ipython",
    "version": 3
   },
   "file_extension": ".py",
   "mimetype": "text/x-python",
   "name": "python",
   "nbconvert_exporter": "python",
   "pygments_lexer": "ipython3",
   "version": "3.12.2"
  }
 },
 "nbformat": 4,
 "nbformat_minor": 2
}

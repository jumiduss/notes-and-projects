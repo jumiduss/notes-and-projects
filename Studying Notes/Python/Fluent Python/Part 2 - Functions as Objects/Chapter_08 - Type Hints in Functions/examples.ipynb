{
 "cells": [
  {
   "cell_type": "markdown",
   "metadata": {},
   "source": [
    "Gradual Typing Examples"
   ]
  },
  {
   "cell_type": "code",
   "execution_count": 2,
   "metadata": {},
   "outputs": [],
   "source": [
    "from messages import show_count\n",
    "from messages_test import test_show_count, test_show_count_zero\n",
    "\n",
    "# print(show_count(3, 'mouse', 'mice')) # returns error: Too Many Arguments."
   ]
  },
  {
   "cell_type": "markdown",
   "metadata": {},
   "source": [
    "Types Are Defined by Supported Operations Examples"
   ]
  },
  {
   "cell_type": "code",
   "execution_count": 3,
   "metadata": {},
   "outputs": [
    {
     "name": "stdout",
     "output_type": "stream",
     "text": [
      "Quack!\n",
      "Quack!\n",
      "Quack!\n"
     ]
    }
   ],
   "source": [
    "class Bird:\n",
    "    pass\n",
    "\n",
    "class Duck(Bird):\n",
    "    def quack(self):\n",
    "        print(\"Quack!\")\n",
    "\n",
    "def alert(birdie):\n",
    "    birdie.quack() # Type checker ignores since there are no type hints.\n",
    "\n",
    "def alert_duck(birdie: Duck) -> None:\n",
    "    birdie.quack() # Takes one argument of the type Duck.\n",
    "\n",
    "def alert_bird(birdie: Bird) -> None:\n",
    "    birdie.quack() # Errors because there is no quack method in birdie.\n",
    "\n",
    "daffy = Duck()\n",
    "alert(daffy)\n",
    "alert_duck(daffy)\n",
    "alert_bird(daffy) # is allowed because daffy is a Duck instance, which is a subclass of bird."
   ]
  },
  {
   "cell_type": "markdown",
   "metadata": {},
   "source": [
    "Generic Mappings Examples"
   ]
  },
  {
   "cell_type": "code",
   "execution_count": null,
   "metadata": {},
   "outputs": [],
   "source": [
    "import sys\n",
    "import re\n",
    "import unicodedata\n",
    "from collections.abc import Iterator\n",
    "\n",
    "RE_WORD = re.compile(r'\\w+')\n",
    "STOP_CODE = sys.maxunicode + 1\n",
    "\n",
    "def tokenize(text: str) -> Iterator[str]:\n",
    "    \"\"\"return iterable of upper cased words\"\"\"\n",
    "    for match in RE_WORD.finditer(text):\n",
    "        yield match.group().upper()\n",
    "        \n",
    "def name_index(start: int = 32, end: int = STOP_CODE) -> dict[str, set[str]]:\n",
    "    index: dict[str, set[str]] = {}\n",
    "    for char in (chr(i) for i in range(start, end)):\n",
    "        if name := unicodedata.name(char, ''): # If it's a character, assign the char to a name.\n",
    "            for word in tokenize(name):\n",
    "                index.setdefault(word, set()).add(char)\n",
    "    return index"
   ]
  },
  {
   "cell_type": "code",
   "execution_count": 1,
   "metadata": {},
   "outputs": [],
   "source": [
    "from collections.abc import Iterable\n",
    "\n",
    "FromTo = tuple[str, str]\n",
    "\n",
    "def zip_replace(text: str, changes: Iterable[FromTo]):\n",
    "    for from_, to in changes:\n",
    "        text = text.replace(from_, to)\n",
    "    return text"
   ]
  },
  {
   "cell_type": "markdown",
   "metadata": {},
   "source": [
    "Static Protocols Examples"
   ]
  },
  {
   "cell_type": "code",
   "execution_count": 10,
   "metadata": {},
   "outputs": [
    {
     "name": "stdout",
     "output_type": "stream",
     "text": [
      "[7, 6, 5, 4]\n",
      "['mango', 'pear', 'apple', 'kiwi', 'banana']\n",
      "['pear', 'mango', 'kiwi']\n",
      "[(5, 'mango'), (4, 'pear'), (5, 'apple'), (4, 'kiwi'), (6, 'banana')]\n",
      "[(6, 'banana'), (5, 'mango'), (5, 'apple')]\n",
      "[<object object at 0x7ca804636d10>, <object object at 0x7ca804636d30>, <object object at 0x7ca804636d40>, <object object at 0x7ca804636d50>]\n",
      "[Spam(3), Spam(2), Spam(1), Spam(0)]\n",
      "[Spam(0), Spam(1), Spam(2), Spam(3)]\n"
     ]
    }
   ],
   "source": [
    "from typing import TypeVar\n",
    "T = TypeVar('T')\n",
    "\n",
    "def top(series: Iterable[T], length: int) -> list[T]:\n",
    "    ordered = sorted(series, reverse=True)\n",
    "    return ordered[:length]\n",
    "\n",
    "l1 = 'mango pear apple kiwi banana'.split()\n",
    "l2 = [(len(s), s) for s in l1]\n",
    "print(top([4,1,5,2,6,7,3], 4))\n",
    "print(l1)\n",
    "print(top(l1, 3))\n",
    "print(l2)\n",
    "print(top(l2, 3))\n",
    "\n",
    "l3 = [object() for _ in range(4)]\n",
    "print(l3)\n",
    "# print(top(l3, 3)) # Throws type error for __gt__ between object instances.\n",
    "# Compare with the spam class\n",
    "class Spam:\n",
    "    def __init__(self, n): self.n = n\n",
    "    def __lt__(self, other): return self.n < other.n\n",
    "    def __repr__(self): return f'Spam({self.n})'\n",
    "\n",
    "l4 = [Spam(n) for n in range(4)]\n",
    "print(top(l4, len(l4)))\n",
    "print(sorted(l4))\n"
   ]
  },
  {
   "cell_type": "markdown",
   "metadata": {},
   "source": [
    "Callable Examples"
   ]
  },
  {
   "cell_type": "code",
   "execution_count": 11,
   "metadata": {},
   "outputs": [
    {
     "name": "stdout",
     "output_type": "stream",
     "text": [
      "0x2a\n",
      "42\n"
     ]
    }
   ],
   "source": [
    "from collections.abc import Callable\n",
    "\n",
    "def update(\n",
    "    probe: Callable[[], float],\n",
    "    display: Callable[[float], None]\n",
    "    ) -> None:\n",
    "    temperature = probe()\n",
    "    display(temperature)\n",
    "\n",
    "def probe_ok() -> int:\n",
    "    return 42\n",
    "\n",
    "def display_wrong(temperature: int) -> None:\n",
    "    print(hex(temperature))\n",
    "\n",
    "def display_ok(temperature: complex) -> None:\n",
    "    print(temperature)\n",
    "\n",
    "update(probe_ok, display_wrong)\n",
    "update(probe_ok, display_ok)"
   ]
  },
  {
   "cell_type": "markdown",
   "metadata": {},
   "source": [
    "Annotating Positional Only and Variadic Parameters Examples"
   ]
  },
  {
   "cell_type": "markdown",
   "metadata": {},
   "source": [
    "Imperfect Typing and Strong Testing Examples"
   ]
  }
 ],
 "metadata": {
  "kernelspec": {
   "display_name": "projects",
   "language": "python",
   "name": "python3"
  },
  "language_info": {
   "codemirror_mode": {
    "name": "ipython",
    "version": 3
   },
   "file_extension": ".py",
   "mimetype": "text/x-python",
   "name": "python",
   "nbconvert_exporter": "python",
   "pygments_lexer": "ipython3",
   "version": "3.12.2"
  }
 },
 "nbformat": 4,
 "nbformat_minor": 2
}

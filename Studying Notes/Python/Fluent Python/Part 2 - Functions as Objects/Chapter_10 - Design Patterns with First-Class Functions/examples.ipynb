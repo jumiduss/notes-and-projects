{
 "cells": [
  {
   "cell_type": "markdown",
   "metadata": {},
   "source": [
    "Classic Strategy Terminal Examples"
   ]
  },
  {
   "cell_type": "code",
   "execution_count": 2,
   "metadata": {},
   "outputs": [
    {
     "name": "stdout",
     "output_type": "stream",
     "text": [
      "<Order total: 42.00 due: 42.00>\n",
      "<Order total: 42.00 due: 39.90>\n",
      "<Order total: 30.00 due: 28.50>\n",
      "<Order total: 10.00 due: 9.30>\n",
      "<Order total: 42.00 due: 42.00>\n"
     ]
    }
   ],
   "source": [
    "from classic_strategy import (Customer, Order, LineItem, FidelityPromo,\n",
    "                            Decimal, BulkItemPromo, LargeOrderPromo)\n",
    "\n",
    "joe = Customer('John Doe', 0)\n",
    "ann = Customer('Ann Smith', 1100)\n",
    "\n",
    "cart = (LineItem('banana', 4, Decimal('.5')),\n",
    "        LineItem('apple', 10, Decimal('1.5')),\n",
    "        LineItem('watermelon', 5, Decimal(5)))\n",
    "\n",
    "print(Order(joe, cart, FidelityPromo()))\n",
    "print(Order(ann, cart, FidelityPromo()))\n",
    "\n",
    "\n",
    "banana_cart = (LineItem('banana', 30, Decimal('.5')),\n",
    "                LineItem('apple', 10, Decimal('1.5')))\n",
    "\n",
    "print(Order(joe, banana_cart, BulkItemPromo()))\n",
    "\n",
    "\n",
    "long_cart = tuple(LineItem(str(sku), 1, Decimal(1)) for sku in range(10))\n",
    "\n",
    "print(Order(joe, long_cart, LargeOrderPromo()))\n",
    "\n",
    "print(Order(joe, cart, LargeOrderPromo()))\n",
    "\n"
   ]
  },
  {
   "cell_type": "markdown",
   "metadata": {},
   "source": [
    "Function Strategy Terminal Examples"
   ]
  },
  {
   "cell_type": "code",
   "execution_count": 6,
   "metadata": {},
   "outputs": [
    {
     "name": "stdout",
     "output_type": "stream",
     "text": [
      "<Order total: 42.00 due: 42.00>\n",
      "<Order total: 42.00 due: 39.90>\n",
      "<Order total: 30.00 due: 28.50>\n",
      "<Order total: 10.00 due: 9.30>\n",
      "<Order total: 42.00 due: 42.00>\n"
     ]
    }
   ],
   "source": [
    "from function_strategy import (Customer, Order, LineItem, fidelity_promo,\n",
    "                            Decimal, bulk_item_promo, large_order_promo)\n",
    "\n",
    "joe = Customer('John Doe', 0)\n",
    "ann = Customer('Ann Smith', 1100)\n",
    "\n",
    "cart = (LineItem('banana', 4, Decimal('.5')),\n",
    "        LineItem('apple', 10, Decimal('1.5')),\n",
    "        LineItem('watermelon', 5, Decimal(5)))\n",
    "\n",
    "print(Order(joe, cart, fidelity_promo))\n",
    "print(Order(ann, cart, fidelity_promo))\n",
    "\n",
    "\n",
    "banana_cart = (LineItem('banana', 30, Decimal('.5')),\n",
    "                LineItem('apple', 10, Decimal('1.5')))\n",
    "\n",
    "print(Order(joe, banana_cart, bulk_item_promo))\n",
    "\n",
    "\n",
    "long_cart = tuple(LineItem(str(sku), 1, Decimal(1)) for sku in range(10))\n",
    "\n",
    "print(Order(joe, long_cart, large_order_promo))\n",
    "print(Order(joe, cart, large_order_promo))\n"
   ]
  },
  {
   "cell_type": "markdown",
   "metadata": {},
   "source": [
    "Choosing the Best Strategy Terminal Examples"
   ]
  },
  {
   "cell_type": "code",
   "execution_count": 12,
   "metadata": {},
   "outputs": [
    {
     "name": "stdout",
     "output_type": "stream",
     "text": [
      "<Order total: 42.00 due: 42.00>\n",
      "<Order total: 30.00 due: 28.50>\n",
      "<Order total: 42.00 due: 39.90>\n"
     ]
    }
   ],
   "source": [
    "from function_strategy import (Customer, Order, LineItem, fidelity_promo,\n",
    "                            Decimal, bulk_item_promo, large_order_promo)\n",
    "\n",
    "promos = [fidelity_promo, bulk_item_promo, large_order_promo]\n",
    "\n",
    "def best_promo(order: Order) -> Decimal:\n",
    "    \"\"\"Compute the best discount available\"\"\"\n",
    "    return max(promo(order) for promo in promos)\n",
    "\n",
    "joe = Customer('John Doe', 0)\n",
    "ann = Customer('Ann Smith', 1100)\n",
    "\n",
    "cart = (LineItem('banana', 4, Decimal('.5')),\n",
    "        LineItem('apple', 10, Decimal('1.5')),\n",
    "        LineItem('watermelon', 5, Decimal(5)))\n",
    "\n",
    "banana_cart = (LineItem('banana', 30, Decimal('.5')),\n",
    "                LineItem('apple', 10, Decimal('1.5')))\n",
    "\n",
    "long_cart = tuple(LineItem(str(sku), 1, Decimal(1)) for sku in range(10))\n",
    "\n",
    "print(Order(joe, cart, best_promo))\n",
    "print(Order(joe, banana_cart, best_promo))\n",
    "print(Order(ann, cart, best_promo))"
   ]
  },
  {
   "cell_type": "markdown",
   "metadata": {},
   "source": [
    "Finding Strategies in a Module Examples"
   ]
  },
  {
   "cell_type": "code",
   "execution_count": 13,
   "metadata": {},
   "outputs": [],
   "source": [
    "from decimal import Decimal\n",
    "from function_strategy import (\n",
    "    fidelity_promo, bulk_item_promo, large_order_promo, Order\n",
    ")\n",
    "promos = [promo for name, promo in globals().items()\n",
    "            if name.endswith('_promo') and \n",
    "            name != 'best_promo'\n",
    "]\n",
    "\n",
    "def best_promo(order: Order) -> Decimal:\n",
    "    \"\"\"Compute the best discount available\"\"\"\n",
    "    return max(promo(order) for promo in promos)"
   ]
  },
  {
   "cell_type": "code",
   "execution_count": 14,
   "metadata": {},
   "outputs": [],
   "source": [
    "from decimal import Decimal\n",
    "import inspect\n",
    "\n",
    "from function_strategy import Order\n",
    "import promotions\n",
    "\n",
    "promos = [func for _, func in inspect.getmembers(promotions, inspect.isfunction)]\n",
    "\n",
    "def best_promo(order: Order) -> Decimal:\n",
    "    \"\"\"Compute the best discount available\"\"\"\n",
    "    return max(promo(order) for promo in promos)"
   ]
  },
  {
   "cell_type": "markdown",
   "metadata": {},
   "source": [
    "Command Strategies Examples"
   ]
  },
  {
   "cell_type": "code",
   "execution_count": null,
   "metadata": {},
   "outputs": [],
   "source": [
    "class MacroCommand:\n",
    "    \"\"\"A command that executes a list of commands\"\"\"\n",
    "    \n",
    "    def __init__(self, commands):\n",
    "        self.commands = list(commands) #Build a list for an iterable.\n",
    "\n",
    "    def __call__(self):\n",
    "        for command in self.commands: #Each command is called if\n",
    "            command()                 #    the instance is called."
   ]
  }
 ],
 "metadata": {
  "kernelspec": {
   "display_name": "projects",
   "language": "python",
   "name": "python3"
  },
  "language_info": {
   "codemirror_mode": {
    "name": "ipython",
    "version": 3
   },
   "file_extension": ".py",
   "mimetype": "text/x-python",
   "name": "python",
   "nbconvert_exporter": "python",
   "pygments_lexer": "ipython3",
   "version": "3.12.2"
  }
 },
 "nbformat": 4,
 "nbformat_minor": 2
}

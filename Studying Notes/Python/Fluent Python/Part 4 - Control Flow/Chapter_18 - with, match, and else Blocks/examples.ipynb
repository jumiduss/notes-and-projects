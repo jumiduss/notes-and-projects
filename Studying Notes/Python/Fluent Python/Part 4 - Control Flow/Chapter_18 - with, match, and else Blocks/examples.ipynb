{
 "cells": [
  {
   "cell_type": "markdown",
   "metadata": {},
   "source": [
    "Context Managers and with Blocks Examples"
   ]
  },
  {
   "cell_type": "code",
   "execution_count": 6,
   "metadata": {},
   "outputs": [
    {
     "name": "stdout",
     "output_type": "stream",
     "text": [
      "pordwonS dna yttiK ,ecilA\n",
      "YKCOWREBBAJ\n",
      "JABBERWOCKY\n",
      "Back to normal.\n",
      "<__main__.LookingGlass object at 0x73fff4fe7290>\n",
      "eurT\n",
      "YKCOWREBBAJ\n",
      ">0927ef4fff37x0 ta tcejbo ssalGgnikooL.__niam__<\n",
      "JABBERWOCKY\n"
     ]
    }
   ],
   "source": [
    "import sys\n",
    "\n",
    "class LookingGlass:\n",
    "\n",
    "    def __enter__(self):\n",
    "        self.original_write = sys.stdout.write\n",
    "        sys.stdout.write = self.reverse_write\n",
    "        return 'JABBERWOCKY'\n",
    "    \n",
    "    def reverse_write(self, text):\n",
    "        self.original_write(text[::-1])\n",
    "    \n",
    "    def __exit__(self, exc_type, exc_value, traceback):\n",
    "        sys.stdout.write = self.original_write\n",
    "        if exc_type is ZeroDivisionError:\n",
    "            print('Please DO NOT divide by zero!')\n",
    "            return True\n",
    "\n",
    "with LookingGlass() as what:\n",
    "    print('Alice, Kitty and Snowdrop')\n",
    "    print(what)\n",
    "\n",
    "print(what)\n",
    "print('Back to normal.')\n",
    "\n",
    "# Without a with block\n",
    "manager = LookingGlass()\n",
    "print(manager)\n",
    "\n",
    "monster = manager.__enter__()\n",
    "print(monster == 'JABBERWOCKY')\n",
    "print(monster)\n",
    "print(manager)\n",
    "\n",
    "manager.__exit__(None, None, None)\n",
    "print(monster)"
   ]
  },
  {
   "cell_type": "code",
   "execution_count": 2,
   "metadata": {},
   "outputs": [
    {
     "name": "stdout",
     "output_type": "stream",
     "text": [
      "pordwonS dna yttiK ,ecilA\n",
      "YKCOWREBBAJ\n",
      "JABBERWOCKY\n",
      "Back to normal.\n"
     ]
    }
   ],
   "source": [
    "import contextlib\n",
    "import sys\n",
    "\n",
    "@contextlib.contextmanager\n",
    "def looking_glass():\n",
    "    original_write = sys.stdout.write\n",
    "\n",
    "    def reverse_write(text):\n",
    "        original_write(text[::-1])\n",
    "    \n",
    "    sys.stdout.write = reverse_write\n",
    "    yield 'JABBERWOCKY'\n",
    "    sys.stdout.write = original_write\n",
    "\n",
    "with looking_glass() as what:\n",
    "    print('Alice, Kitty and Snowdrop')\n",
    "    print(what)\n",
    "    \n",
    "print(what)\n",
    "print('Back to normal.')"
   ]
  },
  {
   "cell_type": "code",
   "execution_count": 5,
   "metadata": {},
   "outputs": [
    {
     "name": "stdout",
     "output_type": "stream",
     "text": [
      "pordwonS dna yttiK ,ecilA\n",
      "YKCOWREBBAJ\n",
      "JABBERWOCKY\n",
      "Back to normal.\n"
     ]
    }
   ],
   "source": [
    "import contextlib\n",
    "import sys\n",
    "\n",
    "@contextlib.contextmanager\n",
    "def looking_glass1():\n",
    "    original_write = sys.stdout.write\n",
    "    \n",
    "    def reverse_write1(text):\n",
    "        original_write(text[::-1])\n",
    "    \n",
    "    sys.stdout.write = reverse_write1\n",
    "    msg = ''\n",
    "    try:\n",
    "        yield 'JABBERWOCKY'\n",
    "    except ZeroDivisionError:\n",
    "        msg = 'Please DO NOT divide by zero!'\n",
    "    finally:\n",
    "        sys.stdout.write = original_write\n",
    "        if msg:\n",
    "            print(msg)\n",
    "\n",
    "with looking_glass1() as what:\n",
    "    print('Alice, Kitty and Snowdrop')\n",
    "    print(what)\n",
    "    \n",
    "print(what)\n",
    "print('Back to normal.')\n",
    "\n"
   ]
  },
  {
   "cell_type": "code",
   "execution_count": 11,
   "metadata": {},
   "outputs": [
    {
     "name": "stdout",
     "output_type": "stream",
     "text": [
      "emoc sah emit ehT\n",
      "back to normal\n"
     ]
    }
   ],
   "source": [
    "@looking_glass()\n",
    "def verse():\n",
    "    print('The time has come')\n",
    "\n",
    "verse()\n",
    "print('back to normal')"
   ]
  },
  {
   "cell_type": "code",
   "execution_count": 13,
   "metadata": {},
   "outputs": [
    {
     "ename": "FileNotFoundError",
     "evalue": "[Errno 2] No such file or directory: 'the_file_name.csv'",
     "output_type": "error",
     "traceback": [
      "\u001b[0;31m---------------------------------------------------------------------------\u001b[0m",
      "\u001b[0;31mFileNotFoundError\u001b[0m                         Traceback (most recent call last)",
      "Cell \u001b[0;32mIn[13], line 72\u001b[0m\n\u001b[1;32m     69\u001b[0m             \u001b[38;5;28;01mpass\u001b[39;00m\n\u001b[1;32m     71\u001b[0m csv_file_name \u001b[38;5;241m=\u001b[39m \u001b[38;5;124m'\u001b[39m\u001b[38;5;124mthe_file_name.csv\u001b[39m\u001b[38;5;124m'\u001b[39m\n\u001b[0;32m---> 72\u001b[0m \u001b[38;5;28;01mwith\u001b[39;00m \u001b[38;5;28;43mopen\u001b[39;49m\u001b[43m(\u001b[49m\u001b[43mcsv_file_name\u001b[49m\u001b[43m,\u001b[49m\u001b[43m \u001b[49m\u001b[38;5;124;43m'\u001b[39;49m\u001b[38;5;124;43mr\u001b[39;49m\u001b[38;5;124;43m'\u001b[39;49m\u001b[43m,\u001b[49m\u001b[43m \u001b[49m\u001b[43mnewline\u001b[49m\u001b[38;5;241;43m=\u001b[39;49m\u001b[38;5;124;43m'\u001b[39;49m\u001b[38;5;124;43m'\u001b[39;49m\u001b[43m)\u001b[49m \u001b[38;5;28;01mas\u001b[39;00m (inFH, outFH):\n\u001b[1;32m     73\u001b[0m     reader \u001b[38;5;241m=\u001b[39m csv\u001b[38;5;241m.\u001b[39mreader(inFH)\n\u001b[1;32m     74\u001b[0m     writer \u001b[38;5;241m=\u001b[39m csv\u001b[38;5;241m.\u001b[39mwriter(outFH)\n",
      "File \u001b[0;32m~/miniconda3/envs/projects/lib/python3.12/site-packages/IPython/core/interactiveshell.py:324\u001b[0m, in \u001b[0;36m_modified_open\u001b[0;34m(file, *args, **kwargs)\u001b[0m\n\u001b[1;32m    317\u001b[0m \u001b[38;5;28;01mif\u001b[39;00m file \u001b[38;5;129;01min\u001b[39;00m {\u001b[38;5;241m0\u001b[39m, \u001b[38;5;241m1\u001b[39m, \u001b[38;5;241m2\u001b[39m}:\n\u001b[1;32m    318\u001b[0m     \u001b[38;5;28;01mraise\u001b[39;00m \u001b[38;5;167;01mValueError\u001b[39;00m(\n\u001b[1;32m    319\u001b[0m         \u001b[38;5;124mf\u001b[39m\u001b[38;5;124m\"\u001b[39m\u001b[38;5;124mIPython won\u001b[39m\u001b[38;5;124m'\u001b[39m\u001b[38;5;124mt let you open fd=\u001b[39m\u001b[38;5;132;01m{\u001b[39;00mfile\u001b[38;5;132;01m}\u001b[39;00m\u001b[38;5;124m by default \u001b[39m\u001b[38;5;124m\"\u001b[39m\n\u001b[1;32m    320\u001b[0m         \u001b[38;5;124m\"\u001b[39m\u001b[38;5;124mas it is likely to crash IPython. If you know what you are doing, \u001b[39m\u001b[38;5;124m\"\u001b[39m\n\u001b[1;32m    321\u001b[0m         \u001b[38;5;124m\"\u001b[39m\u001b[38;5;124myou can use builtins\u001b[39m\u001b[38;5;124m'\u001b[39m\u001b[38;5;124m open.\u001b[39m\u001b[38;5;124m\"\u001b[39m\n\u001b[1;32m    322\u001b[0m     )\n\u001b[0;32m--> 324\u001b[0m \u001b[38;5;28;01mreturn\u001b[39;00m \u001b[43mio_open\u001b[49m\u001b[43m(\u001b[49m\u001b[43mfile\u001b[49m\u001b[43m,\u001b[49m\u001b[43m \u001b[49m\u001b[38;5;241;43m*\u001b[39;49m\u001b[43margs\u001b[49m\u001b[43m,\u001b[49m\u001b[43m \u001b[49m\u001b[38;5;241;43m*\u001b[39;49m\u001b[38;5;241;43m*\u001b[39;49m\u001b[43mkwargs\u001b[49m\u001b[43m)\u001b[49m\n",
      "\u001b[0;31mFileNotFoundError\u001b[0m: [Errno 2] No such file or directory: 'the_file_name.csv'"
     ]
    }
   ],
   "source": [
    "import csv\n",
    "from contextlib import contextmanager\n",
    "import io\n",
    "import os\n",
    "\n",
    "\n",
    "@contextmanager\n",
    "def inplace(filename, mode='r', buffering=-1, encoding=None, errors=None,\n",
    "            newline=None, backup_extension=None):\n",
    "    \"\"\"Allow for a file to be replaced with new content.\n",
    "\n",
    "    yields a tuple of (readable, writable) file objects, where writable\n",
    "    replaces readable.\n",
    "\n",
    "    If an exception occurs, the old file is restored, removing the\n",
    "    written data.\n",
    "\n",
    "    mode should *not* use 'w', 'a' or '+'; only read-only-modes are supported.\n",
    "\n",
    "    \"\"\"\n",
    "\n",
    "    # move existing file to backup, create new file with same permissions\n",
    "    # borrowed extensively from the fileinput module\n",
    "    if set(mode).intersection('wa+'):\n",
    "        raise ValueError('Only read-only file modes can be used')\n",
    "\n",
    "    backup_file_name = filename + (backup_extension or os.extsep + 'bak')\n",
    "    try:\n",
    "        os.unlink(backup_file_name)\n",
    "    except os.error:\n",
    "        pass\n",
    "    os.rename(filename, backup_file_name)\n",
    "    readable = io.open(backup_file_name, mode, buffering=buffering,\n",
    "                        encoding=encoding, errors=errors, newline=newline)\n",
    "    try:\n",
    "        perm = os.fstat(readable.fileno()).st_mode\n",
    "    except OSError:\n",
    "        writable = open(filename, 'w' + mode.replace('r', ''),\n",
    "                        buffering=buffering, encoding=encoding, errors=errors,\n",
    "                        newline=newline)\n",
    "    else:\n",
    "        os_mode = os.O_CREAT | os.O_WRONLY | os.O_TRUNC\n",
    "        if hasattr(os, 'O_BINARY'):\n",
    "            os_mode |= os.O_BINARY\n",
    "        fd = os.open(filename, os_mode, perm)\n",
    "        writable = io.open(fd, \"w\" + mode.replace('r', ''), buffering=buffering,\n",
    "                            encoding=encoding, errors=errors, newline=newline)\n",
    "        try:\n",
    "            if hasattr(os, 'chmod'):\n",
    "                os.chmod(filename, perm)\n",
    "        except OSError:\n",
    "            pass\n",
    "    try:\n",
    "        yield readable, writable\n",
    "    except Exception:\n",
    "        # move backup back\n",
    "        try:\n",
    "            os.unlink(filename)\n",
    "        except os.error:\n",
    "            pass\n",
    "        os.rename(backup_file_name, filename)\n",
    "        raise\n",
    "    finally:\n",
    "        readable.close()\n",
    "        writable.close()\n",
    "        try:\n",
    "            os.unlink(backup_file_name)\n",
    "        except os.error:\n",
    "            pass\n",
    "\n",
    "csv_file_name = 'the_file_name.csv'\n",
    "with open(csv_file_name, 'r', newline='') as (inFH, outFH):\n",
    "    reader = csv.reader(inFH)\n",
    "    writer = csv.writer(outFH)\n",
    "    \n",
    "    for row in reader:\n",
    "        row += ['new', 'columns']\n",
    "        writer.writerow(row)"
   ]
  },
  {
   "cell_type": "markdown",
   "metadata": {},
   "source": [
    "*Pattern Matching in lis.py: A Case Study Examples*"
   ]
  },
  {
   "cell_type": "markdown",
   "metadata": {},
   "source": [
    "The code in the Scheme language to be replicated in Python.\n",
    "\n",
    "    (define (mod m n)\n",
    "        (- m (* n (quotient m n))))\n",
    "\n",
    "    (define (gcd m n)\n",
    "        (if (= n 0)\n",
    "            m\n",
    "            (gcd n (mod m n))))"
   ]
  },
  {
   "cell_type": "code",
   "execution_count": 16,
   "metadata": {},
   "outputs": [
    {
     "name": "stdout",
     "output_type": "stream",
     "text": [
      "9\n"
     ]
    }
   ],
   "source": [
    "def mod(m, n):\n",
    "    return m - (m // n * n)\n",
    "\n",
    "def gcd(m, n):\n",
    "    if n == 0:\n",
    "        return m\n",
    "    else:\n",
    "        return gcd(n, mod(m, n))\n",
    "\n",
    "print(gcd(18, 45))"
   ]
  },
  {
   "cell_type": "markdown",
   "metadata": {},
   "source": [
    "Do This, Then That: else Blocks Beyond if Examples"
   ]
  },
  {
   "cell_type": "code",
   "execution_count": 12,
   "metadata": {},
   "outputs": [
    {
     "name": "stdout",
     "output_type": "stream",
     "text": [
      "finished list loop\n",
      "no \"a\" found\n",
      "finished list loop\n"
     ]
    }
   ],
   "source": [
    "my_list = ['a', 'b', 'c', 'd']\n",
    "your_list = ['b', 'c', 'd', 'e']\n",
    "\n",
    "def for_test(list_):\n",
    "    for item in list_:\n",
    "        if item == 'a':\n",
    "            break\n",
    "    else:\n",
    "        print('no \"a\" found')\n",
    "    print('finished list loop')\n",
    "\n",
    "for_test(my_list)\n",
    "for_test(your_list)\n"
   ]
  }
 ],
 "metadata": {
  "kernelspec": {
   "display_name": "projects",
   "language": "python",
   "name": "python3"
  },
  "language_info": {
   "codemirror_mode": {
    "name": "ipython",
    "version": 3
   },
   "file_extension": ".py",
   "mimetype": "text/x-python",
   "name": "python",
   "nbconvert_exporter": "python",
   "pygments_lexer": "ipython3",
   "version": "3.12.2"
  }
 },
 "nbformat": 4,
 "nbformat_minor": 2
}

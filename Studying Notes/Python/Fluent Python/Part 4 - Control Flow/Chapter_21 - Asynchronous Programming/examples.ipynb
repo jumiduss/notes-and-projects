{
 "cells": [
  {
   "cell_type": "markdown",
   "metadata": {},
   "source": [
    "Probing Domains Examples"
   ]
  },
  {
   "cell_type": "code",
   "execution_count": 2,
   "metadata": {},
   "outputs": [],
   "source": [
    "# See testing_async.py to run this example.\n",
    "\n",
    "# import asyncio\n",
    "# import socket\n",
    "# from keyword import kwlist\n",
    "\n",
    "# MAX_KEYWORD_LEN = 4\n",
    "\n",
    "\n",
    "# async def probe(domain: str) -> tuple [str, bool]:\n",
    "#     loop = asyncio.get_running_loop()\n",
    "#     try:\n",
    "#         await loop.getaddrinfo(domain, None)\n",
    "#     except socket.gaierror:\n",
    "#         return (domain, False)\n",
    "#     return (domain, True)\n",
    "\n",
    "# async def main() -> None:\n",
    "#     names = (kw for kw in kwlist if len(kw) <= MAX_KEYWORD_LEN)\n",
    "#     domains = (f'{name}.dev'.lower() for name in names)\n",
    "#     coros = [probe(domain) for domain in domains]\n",
    "#     for coro in asyncio.as_completed(coros):\n",
    "#         domain, found = await coro\n",
    "#         mark = '+' if found else ' '\n",
    "#         print(f'{mark} {domain}')\n",
    "\n",
    "# asyncio.run(main())\n"
   ]
  },
  {
   "cell_type": "markdown",
   "metadata": {},
   "source": [
    "Downloading with asyncio and HTTPX Examples"
   ]
  },
  {
   "cell_type": "code",
   "execution_count": 4,
   "metadata": {},
   "outputs": [
    {
     "ename": "TypeError",
     "evalue": "main() missing 1 required positional argument: 'downloader'",
     "output_type": "error",
     "traceback": [
      "\u001b[0;31m---------------------------------------------------------------------------\u001b[0m",
      "\u001b[0;31mTypeError\u001b[0m                                 Traceback (most recent call last)",
      "Cell \u001b[0;32mIn[4], line 36\u001b[0m\n\u001b[1;32m     33\u001b[0m     resp \u001b[38;5;241m=\u001b[39m \u001b[38;5;28;01mawait\u001b[39;00m client\u001b[38;5;241m.\u001b[39mget(url, timeout\u001b[38;5;241m=\u001b[39m\u001b[38;5;241m6.1\u001b[39m, allow_redirects\u001b[38;5;241m=\u001b[39m\u001b[38;5;28;01mTrue\u001b[39;00m)\n\u001b[1;32m     34\u001b[0m     \u001b[38;5;28;01mreturn\u001b[39;00m resp\u001b[38;5;241m.\u001b[39mread()\n\u001b[0;32m---> 36\u001b[0m \u001b[43mmain\u001b[49m\u001b[43m(\u001b[49m\u001b[43m)\u001b[49m\n",
      "\u001b[0;31mTypeError\u001b[0m: main() missing 1 required positional argument: 'downloader'"
     ]
    }
   ],
   "source": [
    "# import asyncio\n",
    "# from httpx import AsyncClient\n",
    "# from pathlib import Path\n",
    "# from typing import Callable\n",
    "# import time\n",
    "\n",
    "\n",
    "# POP20_CC = ('CN IN US ID BR PK NG BD RU JP '\n",
    "#             'MX PH VN ET EG DE IR TR CD FR').split()\n",
    "\n",
    "# BASE_URL = 'https://www.fluentpython.com/data/flags'\n",
    "# DEST_DIR = Path('downloaded')\n",
    "\n",
    "# def save_flag(img: bytes, filename: str) -> None:\n",
    "#     (DEST_DIR / filename).write_bytes(img)\n",
    "\n",
    "\n",
    "# def main(downloader: Callable[[list[str]], int]) -> None:\n",
    "#     DEST_DIR.mkdir(exist_ok=True)\n",
    "#     t0 = time.perf_counter()\n",
    "#     count = downloader(POP20_CC)\n",
    "#     elapsed = time.perf_counter() - t0\n",
    "#     print(f'\\n{count} downloads in {elapsed:.2f}s')\n",
    "\n",
    "# async def download_one(client: AsyncClient, cc: str):\n",
    "#     image = await get_flag(client, cc)\n",
    "#     save_flag(image, f'{cc}.gif')\n",
    "#     print(cc, end=' ', flush=True)\n",
    "#     return cc\n",
    "\n",
    "# async def get_flag(client: AsyncClient, cc: str) -> bytes:\n",
    "#     url = f'{BASE_URL}/{cc}/{cc}.gif'.lower()\n",
    "#     resp = await client.get(url, timeout=6.1, allow_redirects=True)\n",
    "#     return resp.read()\n",
    "\n",
    "# main()"
   ]
  }
 ],
 "metadata": {
  "kernelspec": {
   "display_name": "projects",
   "language": "python",
   "name": "python3"
  },
  "language_info": {
   "codemirror_mode": {
    "name": "ipython",
    "version": 3
   },
   "file_extension": ".py",
   "mimetype": "text/x-python",
   "name": "python",
   "nbconvert_exporter": "python",
   "pygments_lexer": "ipython3",
   "version": "3.12.2"
  }
 },
 "nbformat": 4,
 "nbformat_minor": 2
}
